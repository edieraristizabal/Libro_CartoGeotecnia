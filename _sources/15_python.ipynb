{
 "cells": [
  {
   "cell_type": "markdown",
   "metadata": {},
   "source": [
    "# Python"
   ]
  },
  {
   "cell_type": "markdown",
   "metadata": {},
   "source": [
    "## Código abierto\n",
    "Este libro incluye una serie de herramientas computacionales que facilita la implementación de los modelos para la evaluación de la susceptibilidad/amenaza por movimientos en masa. Todas estas herramientas son de código abierto (*open-source*), lo que significa que los creadores del software tienen disponible los códigos fuentes para que las personas los utilicen, estudien, modifiquen y redistribuyan. Estyo ha permitido crear un ecosistema que hoy representa la mejor opción para computación científica. Gracias a esto, este libro guía puede ser elaborado con herrameintas completamente libres que se púeden instalar en cualquier computador.\n",
    "\n",
    "Para mayor informacion relacionada con código abierto y libre, puede consultar los siguientes links:\n",
    "\n",
    "* **[Video]**: [resumen corto](https://www.youtube.com/watch?v=Tyd0FO0tko8) de código abierto.\n",
    "* **[Libro]** [The Cathedral and the Bazaar](https://en.wikipedia.org/wiki/The_Cathedral_and_the_Bazaar): libro sobre los beneficios e historia del *software* de código abierto."
   ]
  },
  {
   "cell_type": "markdown",
   "metadata": {},
   "source": [
    "## Intro a Python\n",
    "\n",
    "La mayor parte del curso se basa en el lenguaje de programación [Python](https://www.python.org/). Python es un lenguaje de programación de [alto nivel](https://en.wikipedia.org/wiki/High-level_programming_language) ampliamente utilizado en la actualidad. Python es un lenguaje extremadamente útil para aprender en términos de GIS, ya que muchos (o la mayoría) de los diferentes paquetes de software GIS (como ArcGIS, QGIS, PostGIS, etc.) brindan una interfaz para realizar análisis utilizando secuencias de comandos de Python. Durante este curso, nos centraremos principalmente en realizar análisis geoespaciales sin software de terceros como ArcGIS. ¿Por qué? Hay varias razones para hacerlo usando Python sin ningún software adicional:\n",
    "\n",
    "* Todo es gratis: no necesita comprar una licencia costosa para ArcGIS (por ejemplo)\n",
    "* Aprenderá y comprenderá mucho más profundamente cómo funcionan las diferentes operaciones de geoprocesamiento\n",
    "* Python es altamente eficiente: se utiliza para analizar Big Data\n",
    "* Python es muy flexible: admite todos los formatos de datos que puedas imaginar\n",
    "* El uso de Python (o cualquier otro lenguaje de programación de código abierto) admite software/códigos de código abierto y ciencia abierta al hacer posible que todos reproduzcan su trabajo, sin cargo.\n",
    "* Complemente y encadene diferentes softwares de terceros para construir, p. las aplicaciones GIS web sofisticadas que desee (usando, por ejemplo, GeoDjango con PostGIS como back-end)\n",
    "\n",
    "<center><img src=\"https://www.python.org/static/img/python-logo@2x.png\" width=\"1000\"></center>"
   ]
  },
  {
   "cell_type": "markdown",
   "metadata": {},
   "source": [
    "Este curso utiliza Python porque se ha perfilado como una de las principales y más sólidas opciones para *Data Science*, junto con otras alternativas gratuitas como R. Python es ampliamente utilizado para el procesamiento y análisis de datos tanto en la academia como en la industria. Existe una comunidad científica vibrante y en crecimiento, que trabaja tanto en universidades como en empresas, que respalda y mejora sus capacidades para el análisis de datos al proporcionar extensiones nuevas y perfeccionar las existentes (también conocidas como bibliotecas, ver más abajo). En el mundo geoespacial, Python también se adopta ampliamente, siendo el lenguaje seleccionado para secuencias de comandos tanto en [ArcGIS](http://www.esri.com/software/arcgis) como en [QGIS](http://qgis.org ). Todo esto significa que, ya sea que esté pensando en continuar en la educación superior o tratando de encontrar un trabajo en la industria, Python será un activo importante que los empleadores valorarán significativamente.\n",
    "\n",
    "Al ser un lenguaje de alto nivel, el código se puede \"interpretar dinámicamente\", lo que significa que se ejecuta sobre la marcha sin necesidad de compilarlo. Esto contrasta con los lenguajes de programación de \"bajo nivel\", que primero deben convertirse en código de máquina (es decir, compilarse) antes de que puedan ejecutarse. Con Python, uno no necesita preocuparse por la compilación y puede simplemente escribir código, evaluarlo, corregirlo, reevaluarlo, etc. en un ciclo rápido, lo que la convierte en una herramienta muy productiva.\n",
    "\n",
    "Si desea instalar Python, vaya a la página [Python Releases](https://www.python.org/downloads/) y descargue el instalador ejecutable de la versión estable más reciente. Una vez completada la descarga, ejecute el instalador. En la primera página del instalador, asegúrese de seleccionar la opción \"Agregar Python a PATH\" y haga clic en los pasos de configuración restantes dejando todos los valores predeterminados de instalación preseleccionados.\n",
    "\n",
    "<center><img src=\"https://docs.blender.org/manual/es/2.79/_images/about_contribute_install_windows_installer.png\" width=\"1000\"></center>"
   ]
  },
  {
   "cell_type": "markdown",
   "metadata": {},
   "source": [
    "En este caso, para instalar Jupyter o cualquier otro paquete necesitas usar pip. [Pip](https://pypi.org/project/pip/) es un administrador de paquetes que está diseñado específicamente para instalar paquetes de Python exclusivamente. Por el contrario, Conda es un instalador de código abierto y una herramienta de administración de paquetes que también puede manejar dependencias de bibliotecas de Python y que no son de Python.\n",
    "\n",
    "```\n",
    "pip instalar jupyterlab\n",
    "```\n",
    "\n",
    "Esta línea descarga e instala el paquete Jupyter Notebook. Una vez completado, podemos verificar que Jupyter Notebook se instaló correctamente ejecutando jupyter notebook desde una Terminal (Mac) / Símbolo del sistema (Windows). Esto iniciará el servidor de Jupyter Notebook, imprimirá información sobre el servidor de notebook en la consola y abrirá una nueva pestaña del navegador en http://localhost:8888.\n",
    "\n",
    "<center><img src=\"https://miro.medium.com/max/2400/1*dAZ5etmJphQQCP-ys6Wd_Q.png\" width=\"800\"></center>"
   ]
  },
  {
   "cell_type": "markdown",
   "metadata": {},
   "source": [
    "Al igual que hay muchas distribuciones de Python diferentes, también hay varios administradores de paquetes diferentes disponibles. A pesar de tener varias opciones, la mayoría de los administradores de paquetes funcionan de la misma manera y usan una estructura de comando simple. Cada distribución de Python generalmente se incluye con un administrador de paquetes específico. Algunos de los más comunes son pip y conda.\n",
    "\n",
    "A continuación se muestra una lista de bibliotecas útiles (y enlaces a sus documentos) que lo ayudan a ponerse en marcha al realizar análisis de datos o GIS en Python. Si está interesado o cuando comienza a usar estos módulos en su propio trabajo, es muy recomendable leer la documentación de las páginas web del módulo que usa:\n",
    "\n",
    "### Análisis y visualización de datos:\n",
    "* Numpy –> Paquete fundamental para computación científica con Python\n",
    "* Pandas –> Estructuras de datos y herramientas de análisis de datos fáciles de usar y de alto rendimiento\n",
    "* Scipy –> Una colección de algoritmos numéricos y cajas de herramientas específicas de dominio, que incluyen procesamiento de señales, optimización y estadísticas\n",
    "* Statsmodels –> Modelos estadísticos para Python\n",
    "* Scikit-learn –> Aprendizaje automático para Python (clasificación, regresión, agrupamiento, etc.)\n",
    "* Matplotlib –> Biblioteca básica de trazado para Python\n",
    "* Seaborn –> Visualización de datos estadísticos\n",
    "* Bokeh –> Visualizaciones interactivas para la web (también mapas)\n",
    "* Plotly –> Visualizaciones interactivas (también mapas) para la web (comercial - gratis con fines educativos)\n",
    "* Dash -> Creación de aplicaciones web analíticas con Python (no se requiere Javascript)\n",
    "\n",
    "### SIG:\n",
    "* GDAL –> Paquete fundamental para procesar formatos de datos vectoriales y raster (muchos módulos a continuación dependen de esto). Se utiliza para el procesamiento de tramas.\n",
    "* Geopandas -> Trabajar con datos geoespaciales en Python es más fácil, combina las capacidades de pandas y shapely.\n",
    "* Shapely -> Paquete de Python para manipulación y análisis de objetos geométricos planos (basado en GEOS ampliamente implementado).\n",
    "* Fiona –> Lectura y escritura de datos espaciales (alternativa para geopandas).\n",
    "* Pyproj –> Realiza transformaciones cartográficas y cálculos geodésicos (basado en PROJ.4).\n",
    "* PyCRS -> Trabajando fácilmente con diferentes especificaciones CRS (EPSG, ESRI, Proj4)\n",
    "* Pysal –> Biblioteca de funciones de análisis espacial escritas en Python.\n",
    "* Geopy –> Biblioteca de geocodificación: coordenadas a dirección <-> dirección a coordenadas.\n",
    "* GeoViews –> Mapas Interactivos para la web.\n",
    "* Geoplot -> Biblioteca de visualización de datos geoespaciales de alto nivel para Python.\n",
    "* GeoNotebook -> Entorno similar a GIS de escritorio para visualizar e interactuar con datos espaciales usando Python (basado en Jupyter Notebooks)\n",
    "* OSMnx –> Python para redes de calles. Recupere, construya, analice y visualice redes de calles desde OpenStreetMap\n",
    "* Networkx -> Análisis de red y enrutamiento en Python (por ejemplo, algoritmos Dijkstra y A*), consulte esta publicación.\n",
    "* Cartopy -> Haga que dibujar mapas para el análisis y la visualización de datos sea lo más fácil posible.\n",
    "* Scipy.spatial –> Algoritmos espaciales y estructuras de datos.\n",
    "* Rtree -> Indexación espacial para Python para búsquedas espaciales rápidas.\n",
    "* Rasterio –> E/S raster limpia y rápida y geoespacial para Python.\n",
    "* Rasterstats -> Un módulo para resumir conjuntos de datos ráster geoespaciales basados ​​en geometrías vectoriales (por ejemplo, realizar estadísticas zonales).\n",
    "* RSGISLib –> Biblioteca de Software de Teledetección y GIS para Python.\n",
    "\n",
    "<center><img src=\"https://www.alpha-quantum.com/blog/wp-content/uploads/2020/05/img_5ecd875868599.png\" width=\"1000\" class=\"center\"></center >"
   ]
  },
  {
   "cell_type": "markdown",
   "metadata": {},
   "source": [
    "##Conda\n",
    "\n",
    "Las dos distribuciones más populares son [**Anaconda** y **Miniconda**](https://docs.conda.io/projects/conda/en/latest/user-guide/install/download.html#anaconda- o-miniconda). **Anaconda** es una distribución de Python de código abierto diseñada específicamente para la ciencia de datos, el aprendizaje automático y el procesamiento de datos a gran escala. Incluye el lenguaje Python central, más de 1500 paquetes de ciencia de datos, un sistema de administración de paquetes llamado conda, IPython (un intérprete interactivo de Python) y mucho más. Si bien es una distribución muy completa, también es bastante grande y, por lo tanto, puede tardar un poco en descargarse y consume mucho espacio en disco. **Miniconda**, por otro lado, es una versión reducida de Anaconda e incluye todos los mismos componentes excepto los 1500 paquetes de ciencia de datos preinstalados. En cambio, podemos simplemente instalar estos paquetes individualmente según sea necesario usando conda (el administrador de paquetes Anaconda/Miniconda).\n",
    "\n",
    "<center><img src=\"https://sf.ezoiccdn.com/ezoimgfmt/linuxnetmag.com/wp-content/uploads/2020/11/MinicondavsAnaconda.jpg?ezimgfmt=ng%3Awebp%2Fngcb1%2Frs%3Adevice% 2Frscb1-1\" ancho=\"800\"></centro>\n",
    "\n",
    "Elige **Anaconda** si:\n",
    "\n",
    "* Son nuevos en conda o Python.\n",
    "* Como la comodidad de tener Python y más de 1500 paquetes científicos instalados automáticamente a la vez.\n",
    "* Tenga el tiempo y el espacio en disco---unos minutos y 3 GB.\n",
    "* No desea instalar individualmente cada uno de los paquetes que desea utilizar.\n",
    "\n",
    "<centro><img src=\"https://miro.medium.com/max/700/1*TaL5qaSnR2QOef69e49LPQ.png\" width=\"1000\"></centro>\n",
    "\n",
    "Elige **Miniconda** si:\n",
    "\n",
    "* No te preocupes por instalar cada uno de los paquetes que quieras utilizar de forma individual.\n",
    "* No tiene tiempo ni espacio en disco para instalar más de 1.500 paquetes a la vez.\n",
    "* Quiere un acceso rápido a Python y los comandos de conda y desea ordenar los otros programas más tarde.\n",
    "\n",
    "Si prefiere [Miniconda](https://docs.conda.io/en/latest/miniconda.html), deberá descargar e instalar Miniconda. **Miniconda** no tiene una interfaz para el usuario como Anaconda, debe ser a través de la línea de comando.\n",
    "\n",
    "<center><img src=\"https://katiekodes.com/images/screenshot-miniconda-02-execute.png\" width=\"700\"></center>\n",
    "\n",
    "A continuación, el instalador le preguntará si desea hacer alguna de estas dos cosas.\n",
    "\n",
    "* Agregue \"Anaconda\" a mi variable de entorno \"RUTA\". Dice no hacerlo bien en el texto del instalador, recomiendo revisarlo.\n",
    "* Registre \"Anaconda\" como mi entorno \"predeterminado de Python 3.7\". Esto viene comprobado, y lo recomiendan.\n",
    "\n",
    "Tanto Anaconda como Miniconda vienen con Conda. Y debido a que Conda es un administrador de paquetes, lo que puede lograr con Anaconda, puede hacerlo con Miniconda. En otras palabras, los pasos de la sección Miniconda (crear un entorno personalizado con Conda) funcionarán después de haber pasado por la sección Anaconda.\n",
    "\n",
    "Se recomienda encarecidamente que instale la [Distribución Python de Anaconda] (https://docs.continuum.io/anaconda/install/). Te hará la vida mucho más fácil. Puede descargar e instalar Anaconda en Windows, OSX y Linux."
   ]
  },
  {
   "cell_type": "markdown",
   "metadata": {},
   "source": [
    "## Jupyter Lab\n",
    "La principal herramienta computacional que utilizará durante este curso es [Jupyter Lab](http://jupyter.org/). Jupyter Lab es una interfaz web interactiva para el desarrollo de código, que sigue el concepto conocido como REPL (Read — Evaluate — Print — Loop), que es ampliamente utilizado por los científicos de datos. La gran ventaja de utilizar un entorno REPL es que podemos desarrollar nuestro código de forma gradual, ejecutando comando a comando y comprobando sus resultados. Además, podemos guardar texto explicativo junto con el código que vamos a desarrollar y también visualizar los resultados, todo en el mismo entorno sin necesidad de alternar entre la línea de comandos y otras aplicaciones, como el visor de imágenes u otras. Los blocs de notas son una forma conveniente de unir texto, código y la salida que produce en un solo archivo que luego puede compartir, editar y modificar. Puede pensar en los cuadernos como el documento de Word de los científicos de datos.\n",
    "\n",
    "Un cuaderno consta de un solo archivo que almacena texto narrativo, código de computadora y la salida producida por el código. Almacenar tanto el trabajo narrativo como el computacional en un solo archivo significa que todo el flujo de trabajo se puede registrar y documentar en el mismo lugar, sin tener que recurrir a dispositivos auxiliares (como un cuaderno de papel). Una segunda característica de los cuadernos es que permiten el trabajo interactivo. El trabajo computacional moderno se beneficia de la capacidad de probar, fallar, modificar e iterar rápidamente hasta encontrar una solución funcional. Los portátiles encarnan esta cualidad y permiten al usuario trabajar de forma interactiva. Ya sea que la computación se realice en una computadora portátil o en un centro de datos, las computadoras portátiles brindan la misma interfaz para la computación interactiva, lo que reduce la carga cognitiva requerida para escalar. Tercero, los cuadernos tienen interoperabilidad incorporada. El formato de cuaderno está diseñado para registrar y compartir el trabajo computacional, pero no necesariamente para otras etapas del ciclo de investigación. Para ampliar la gama de posibilidades y aplicaciones, los portátiles están diseñados para ser fácilmente convertibles a otros formatos. Por ejemplo, si bien se requiere una aplicación específica para abrir y editar la mayoría de los formatos de archivo de notebook, no se requiere software adicional para convertirlos en archivos pdf que se pueden leer, imprimir y anotar sin necesidad de software técnico.\n",
    "\n",
    "Un cuaderno de Jupyter es un archivo de texto sin formato con la extensión **.ipynb**, lo que significa que es un archivo fácil de mover, sincronizar y rastrear a lo largo del tiempo. Internamente, está estructurado como un documento de texto sin formato que contiene notación de objetos de JavaScript que registra el estado del cuaderno, por lo que también se integra bien con una gran cantidad de tecnologías web modernas. El elemento atómico que compone un cuaderno se llama célula. Las celdas son fragmentos consistentes de contenido que contienen texto o código. De hecho, un cuaderno puede considerarse como una colección ordenada de celdas. Las celdas pueden ser de dos tipos: texto y código.\n",
    "\n",
    "Estos archivos se han convertido en una excelente herramienta para realizar códigos en un formato de escritura tipo Markdown. Estos archivos pueden trabajarse con Jupyter, Jupyter Lab o Google Colab.\n",
    "\n",
    "Los bloques de los cuadernos corresponden a celdas. Las cuales pueden ser de dos tipos:\n",
    "\n",
    "* **Texto**\n",
    "* **Codigo**\n",
    "\n",
    "Las celdas de texto en un cuaderno están en un lenguaje [Github Flavored Markdown](https://help.github.com/articles/github-flavored-markdown/). Lo que significa que se debe escribir en texto plano con alguans reglas simples y el notebook mostrar el texto correspondiente interpretando las reglas insertadas para editar el texto. A continuación se presentan algunos ejemplos.\n",
    "\n",
    "### Creación de un entorno e instalación de paquetes\n",
    "\n",
    "Antes de comenzar con Jupyter Lab, se recomienda crear un entorno para el análisis espacial. Los entornos pueden considerarse repositorios en los que se instalan paquetes de Python para evitar conflictos entre paquetes y versiones. Por ejemplo, si tiene un código desarrollado con un paquete NumPy 1.18 y este código no funciona con la versión actual, que es la 1.20, puede (y debe) crear entornos específicos para cada versión.\n",
    "\n",
    "Conda viene inicialmente con un entorno estándar llamado base (raíz). Antes de instalar nuestros paquetes, crearemos un nuevo entorno, haciendo clic en la pestaña Entornos a la izquierda y en el botón Crear debajo de la lista de entornos. A este nuevo entorno, podemos darle cualquier nombre como “geoespacial” y seleccionar Python 3.7 como paquete principal.\n",
    "\n",
    "<centro><img src=\"https://miro.medium.com/max/700/1*EEcFGtMxuu42T42jgmvSzA.png\" width=\"1000\"></centro>\n",
    "\n",
    "Para instalar un nuevo paquete, es necesario buscar el nombre del paquete deseado usando la barra de búsqueda (no olvide seleccionar Todo en el cuadro desplegable), seleccione el paquete de la lista y haga clic en Aplicar. Como los paquetes funcionan con dependencias, dependiendo del paquete a instalar, instalará todos los paquetes necesarios que aún no existen en el entorno actual.\n",
    "\n",
    "<centro><img src=\"https://miro.medium.com/max/700/1*2BZZhxcof1eu1INPMyny6w.png\" width=\"1000\"></centro>\n",
    "\n",
    "Para escribir y ejecutar nuestro código debemos"
   ]
  },
  {
   "cell_type": "markdown",
   "metadata": {},
   "source": [
    "### Agregar entorno virtual a Jupyter\n",
    "\n",
    "Jupyter Notebook se asegura de que el kernel de IPython esté disponible, pero debe agregar manualmente un kernel con una versión diferente de Python o un entorno virtual. Primero, asegúrese de que su entorno esté activado con conda active myenv. A continuación, instale ipykernel que proporciona el kernel de IPython para Jupyter:\n",
    "\n",
    "```\n",
    "pip install --usuario ipykernel\n",
    "```\n",
    "\n",
    "A continuación, puede agregar su entorno virtual a Jupyter escribiendo:\n",
    "\n",
    "```\n",
    "python -m ipykernel install --user --name=myenv\n",
    "```\n",
    "\n",
    "Después de eliminar su entorno virtual, querrá eliminarlo también de Jupyter. Primero veamos qué núcleos están disponibles. Puedes listarlos con:\n",
    "```\n",
    "lista de especificaciones del kernel jupyter\n",
    "```\n",
    "Esto debería devolver kernel env en jupyter. Ahora, para desinstalar el kernel, puede escribir:\n",
    "```\n",
    "jupyter kernelspec desinstalar myenv\n",
    "```"
   ]
  }
 ],
 "metadata": {
  "kernelspec": {
   "display_name": "Python 3.9.2 ('geospatial')",
   "language": "python",
   "name": "python3"
  },
  "language_info": {
   "name": "python",
   "version": "3.9.2"
  },
  "orig_nbformat": 4,
  "vscode": {
   "interpreter": {
    "hash": "e1d4d4432adaf810d84079afef3a2b5cc3e6cff3448576ce9e7d5e7cd95700e9"
   }
  }
 },
 "nbformat": 4,
 "nbformat_minor": 2
}
