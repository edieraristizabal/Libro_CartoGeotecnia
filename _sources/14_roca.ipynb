{
 "cells": [
  {
   "cell_type": "markdown",
   "metadata": {},
   "source": [
    "# Movimientos en masa en roca"
   ]
  },
  {
   "cell_type": "markdown",
   "metadata": {},
   "source": [
    ":::{figure-md} precision\n",
    "<img src=\"https://i.pinimg.com/564x/8b/6c/d9/8b6cd95caed2bd79b8c01172f83a8611.jpg\" alt=\"modelos\" width=\"500px\">\n",
    "\n",
    "Análisis cinemático para deslizamientos planares.\n",
    ":::"
   ]
  },
  {
   "cell_type": "markdown",
   "metadata": {},
   "source": [
    ":::{figure-md} precision\n",
    "<img src=\"https://i.pinimg.com/564x/00/89/19/008919353afe624b23813743fed36aa7.jpg\" alt=\"modelos\" width=\"500px\">\n",
    "\n",
    "Análisis cinemático para deslizamientos en cuña.\n",
    ":::"
   ]
  },
  {
   "cell_type": "markdown",
   "metadata": {},
   "source": [
    ":::{figure-md} precision\n",
    "<img src=\"https://i.pinimg.com/564x/41/2c/d6/412cd65e9a269c371b354d24533199b2.jpg\" alt=\"modelos\" width=\"500px\">\n",
    "\n",
    "Análisis cinemático para movimientos en masa tipo volcamiento.\n",
    ":::"
   ]
  }
 ],
 "metadata": {
  "interpreter": {
   "hash": "81794d4967e6c3204c66dcd87b604927b115b27c00565d3d43f05ba2f3a2cb0d"
  },
  "kernelspec": {
   "display_name": "Python 3.9.0 64-bit",
   "language": "python",
   "name": "python3"
  },
  "language_info": {
   "name": "python",
   "version": "3.9.0"
  },
  "orig_nbformat": 4
 },
 "nbformat": 4,
 "nbformat_minor": 2
}
