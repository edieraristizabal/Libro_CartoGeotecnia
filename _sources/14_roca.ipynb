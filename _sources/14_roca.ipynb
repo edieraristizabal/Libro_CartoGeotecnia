{
 "cells": [
  {
   "attachments": {},
   "cell_type": "markdown",
   "metadata": {},
   "source": [
    "# Movimientos en masa en roca\n",
    "\n",
    "Las estructuras geológicas de los materiales que conforman las laderas son una de las principales factores condicionantes de movimientos en masa en roca. Los planos de estratificación, diaclasas o foliación pueden controlar tanto el mecanismo como la actividad de los movimientos en masa. Es por esta razón que analizar la relación entre dichos planos de debilidad con el aspecto y pendiente de las laderas pueden ser clave para entender la ocurrencia. La disponibilidad de modelos digitales del terreno y sistemas de información geográfica ofrecen una excelente posibilidad de caracterizar estas relaciones sobre extensas áreas utilizando los modelos de elevación y datos estructurales.\n",
    "\n",
    "Como soporte a los modelos con base física para macizos rocosos, las técnicas computacionales actuales permiten la implementación de análisis espaciales que correlacionen información geo-estructural y morfológica de las laderas para evaluar su estabilidad (Grelle et al., 2011). Para este análisis, se definen las relaciones geométricas entre la aptitud de las discontinuidades (rumbo y buzamiento) y la geometría de la ladera (pendiente y aspecto) (Guzzetti et al., 2006; Gunther, 2003; Hammond et al., 1992; Montgomery & Dietrich, 1994; Pack et al., 1998). Estos modelos requieren información espacialmente distribuida sobre la geometría de las laderas y datos estructurales de las discontinuidades para realizar los análisis celda por celda sobre toda el área de estudio (Günther, 2003; Günther et al., 2004; Santagelo et al., 2014). \n",
    "\n",
    "Los análisis cinemáticos implementados mediante SIG para extensas áreas requieren dominios morfoestructurales, estableciendo áreas geográficas caracterizadas por relaciones geométricas homogéneas entre la actitud de las estructuras geológicas y la geometría de las laderas. Para identificar dichos dominios morfoestructurales autores como Grelle et al. (2011) y Santagelo et al. (2014) han propuesto evaluaciones discretas mediante regla de clasificación o evaluaciones continuas a través de índices que relacionan la geometría de las laderas y la aptitud de las discontinuidades. Finalmente, cada dominio estructural, de acuerdo con la disposición estructural y geometría de la ladera, presenta un tipo principal de cinemática de falla a lo largo de las discontinuidades: fallas planares, fallas en cuña, y fallas por volcamiento. (Cruden & varnes, 1996; Hoek y Bray, 1981).\n",
    "\n",
    "Uno de los índices utilizados es TOBIA (*TOpographic/Bedding plane Intersection Angle*) propuesto por Meentemeyer & Moody (2000). este indice señala la conformidad entre la ladera y los planos del material de la ladera. Si los planos de la roca buzan en el mismo sentido del aspecto de la ladera, se clasifica como *cataclinal*, si los planos buzan en direccion opuesta, es clasificada como *anaclinal*, y si buza de forma ortogonal es clasificada como *ortoclinal*. Las cataclinales y anaclinales pueden subclasificarse de acuerdo con el ángulo de buzamiento y la pendiente de la ladera, como se presenta en la figura. Las laderas cataclinales (*dip slope* y *overdip sope*) son susceptibles a deslizamientos planares. Mientras que las laderas anaclinales son susceptibles a movimientos en  masa tipo volcamiento y caida. Y las laderas ortoclinales con diferentes familias de diaclasas pueden formar movimientos en masa tipo cuña.\n",
    "\n",
    ":::{figure-md} roca\n",
    "<img src=\"https://i.pinimg.com/564x/e1/b2/c9/e1b2c9845c93e4cb81807adbc02ec8cc.jpg\" alt=\"roca laderas\" width=\"600px\">\n",
    "\n",
    "Clasificación de laderas de acuerdo con el lineamiento entre el aspecto y pendiente con el rumbo y buzamiento de la estructuras. Tomado de {cite:t}`Meentemeyer2000`.\n",
    ":::\n",
    "\n",
    "En este sentido, y con las 4 siguientes variables pendiente (S 0-90°), aspecto (A 0-360°), buzamiento ($\\theta$ 0-90°) y dirección de buzamiento ($\\alpha$ 0-360°), puede ser clasificadas todas las celdas que representa el área de interés. Esta clasificación puede realizarse de forma categórica con el valor de *L* :\n",
    "\n",
    "$L=\\sqrt{(cos\\alpha - cos A)^2 + (sen\\alpha - senA)^2}$\n",
    "\n",
    "Los rangos de los valores son considerados en este documento $\\pm$ 45, sin embargo este valor puede reducirse con creterio de campo, un valor razonable puede ser $\\pm$ 20°, como se presenta en las figuras de los análisis cinemáticos."
   ]
  },
  {
   "cell_type": "markdown",
   "metadata": {},
   "source": [
    "## Laderas cataclinales\n",
    "De forma categórica las laderas cataclinales corresponden cuando la diferencia entre $\\alpha$ y A es 0 $\\pm$ 45°, lo cual corresponde a $0 \\leq L \\leq 0.7654$. Adicionalmente, para las laderas cataclinales:\n",
    "\n",
    "Si $-5° \\leq \\theta-S \\leq 5°$ --> *Dip slope*\n",
    "\n",
    "Si $0 - S \\geq 5°$ --> *underdip slope*\n",
    "\n",
    "Si $\\theta - S < -5°$ --> *overdip slope*\n",
    "\n",
    "Como parte del análisis cinemático clásico se verifica además que la pendiente sea mayor al ángulo de fricción del plano.\n",
    "\n",
    ":::{figure-md} precision\n",
    "<img src=\"https://i.pinimg.com/564x/8b/6c/d9/8b6cd95caed2bd79b8c01172f83a8611.jpg\" alt=\"modelos\" width=\"600px\">\n",
    "\n",
    "Análisis cinemático para deslizamientos planares.\n",
    ":::"
   ]
  },
  {
   "cell_type": "markdown",
   "metadata": {},
   "source": [
    "## Laderas ortoclinales\n",
    "De forma categórica las laderas ortoclinales corresponden cuando al diferencia entre $\\alpha$ y A es 90 $\\pm$ 45° o 270 $\\pm$ 45, lo cual corresponde a $0.7654\\leq L \\leq 1.8478$\n",
    "\n",
    "En este caso para el análisis cinemático la linea de intercepción de los dos planos debe tener una direccion igual a S $\\pm$ 20°, y el buzamiento debe ser mayor al ángulo de fricción.\n",
    "\n",
    ":::{figure-md} precision\n",
    "<img src=\"https://i.pinimg.com/564x/00/89/19/008919353afe624b23813743fed36aa7.jpg\" alt=\"modelos\" width=\"600px\">\n",
    "\n",
    "Análisis cinemático para deslizamientos en cuña.\n",
    ":::"
   ]
  },
  {
   "cell_type": "markdown",
   "metadata": {},
   "source": [
    "## Laderas anaclinales\n",
    "De forma categórica las laderas anaclinales corresponden cuando al diferencia entre $\\alpha$ y A es 180 $\\pm$ 45°, lo cual corresponde a $1.8478 \\leq L \\leq 2$. Adicionalmente para las laderas anaclinales:\n",
    "\n",
    "Si $-5° \\leq \\theta - S \\leq 5°$ --> *normal escarpment*\n",
    "\n",
    "Si $\\theta - S > 5°$ --> *Subdued escarpment*\n",
    "\n",
    "Si $\\theta - S < -5°$ --> *steepened escarpment*\n",
    "\n",
    "En este caso, para el análisis cinemático se debe verificar que $90° - \\alpha$ sea menor a la pendiente menos el ángulo de fricción.\n",
    "\n",
    ":::{figure-md} precision\n",
    "<img src=\"https://i.pinimg.com/564x/41/2c/d6/412cd65e9a269c371b354d24533199b2.jpg\" alt=\"modelos\" width=\"600px\">\n",
    "\n",
    "Análisis cinemático para movimientos en masa tipo volcamiento.\n",
    ":::"
   ]
  },
  {
   "cell_type": "markdown",
   "metadata": {},
   "source": [
    "## Referencias\n",
    "```{bibliography}\n",
    ":style: plain\n",
    ":filter: docname in docnames\n",
    "```"
   ]
  }
 ],
 "metadata": {
  "interpreter": {
   "hash": "81794d4967e6c3204c66dcd87b604927b115b27c00565d3d43f05ba2f3a2cb0d"
  },
  "kernelspec": {
   "display_name": "Python 3.9.0 64-bit",
   "language": "python",
   "name": "python3"
  },
  "language_info": {
   "name": "python",
   "version": "3.9.7"
  },
  "orig_nbformat": 4
 },
 "nbformat": 4,
 "nbformat_minor": 2
}
