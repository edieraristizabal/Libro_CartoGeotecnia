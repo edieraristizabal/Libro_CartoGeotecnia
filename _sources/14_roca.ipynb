{
 "cells": [
  {
   "cell_type": "markdown",
   "metadata": {},
   "source": [
    "# Movimientos en masa en roca\n",
    "\n",
    "El programa estima la propagación de los fujos de detritos mediante un balance energético básico y una propagación probabilística. Los algoritmos de la dirección de fujo calculan la probabilidad de que un fujo de detrito se mueva de una celda hacia las próximas 8 celdas. Estas probabilidades dependen de la pendiente y la persistencia que representa la inercia del fujo (Horton et al., 2013).\n",
    "\n",
    "El programa estima la propagación de los fujos de detritos mediante un balance energético básico y una propagación probabilística. Los algoritmos de la dirección de fujo calculan la probabilidad de que un fujo de detrito se mueva de una celda hacia las próximas 8 celdas. Estas probabilidades dependen de la pendiente y la persistencia que representa la inercia del fujo (Horton et al., 2013).\n",
    "\n",
    "Como soporte a los modelos con base física para macizos rocosos, las técnicas computacionales actuales permiten la implementación de análisis espaciales que correlacionen información geo-estructural y morfológica de las laderas para evaluar su estabilidad (Grelle et al., 2011). Para este análisis, se definen las relaciones geométricas entre la aptitud de las discontinuidades (rumbo y buzamiento) y la geometría de la ladera (pendiente y aspecto) (Guzzetti et al., 2006; Gunther, 2003; Hammond et al., 1992; Montgomery & Dietrich, 1994; Pack et al., 1998). Estos modelos requieren información espacialmente distribuida sobre la geometría de las laderas y datos estructurales de las discontinuidades para realizar los análisis celda por celda sobre toda el área de estudio (Günther, 2003; Günther et al., 2004; Santagelo et al., 2014). \n",
    "\n",
    "Los análisis cinemáticos implementados mediante SIG para extensas áreas permiten definir dominios morfoestructurales, estableciendo áreas geográficas caracterizadas por relaciones geométricas homogéneas entre la actitud de las estructuras geológicas y la geometría de las laderas. Para identificar dichos dominios morfoestructurales autores como Grelle et al. (2011) y Santagelo et al. (2014) han propuesto evaluaciones discretas mediante regla de clasificación o evaluaciones continuas a través de índices que relacionan la geometría de las laderas y la aptitud de las discontinuidades. Finalmente, cada dominio estructural, de acuerdo con la disposición estructural y geometría de la ladera, presenta un tipo principal de cinemática de falla a lo largo de las discontinuidades: fallas planares, fallas en cuña, y fallas por volcamiento. (Cruden & varnes, 1996; Hoek y Bray, 1981).\n"
   ]
  },
  {
   "cell_type": "markdown",
   "metadata": {},
   "source": [
    ":::{figure-md} precision\n",
    "<img src=\"https://i.pinimg.com/564x/8b/6c/d9/8b6cd95caed2bd79b8c01172f83a8611.jpg\" alt=\"modelos\" width=\"500px\">\n",
    "\n",
    "Análisis cinemático para deslizamientos planares.\n",
    ":::"
   ]
  },
  {
   "cell_type": "markdown",
   "metadata": {},
   "source": [
    ":::{figure-md} precision\n",
    "<img src=\"https://i.pinimg.com/564x/00/89/19/008919353afe624b23813743fed36aa7.jpg\" alt=\"modelos\" width=\"500px\">\n",
    "\n",
    "Análisis cinemático para deslizamientos en cuña.\n",
    ":::"
   ]
  },
  {
   "cell_type": "markdown",
   "metadata": {},
   "source": [
    ":::{figure-md} precision\n",
    "<img src=\"https://i.pinimg.com/564x/41/2c/d6/412cd65e9a269c371b354d24533199b2.jpg\" alt=\"modelos\" width=\"500px\">\n",
    "\n",
    "Análisis cinemático para movimientos en masa tipo volcamiento.\n",
    ":::"
   ]
  }
 ],
 "metadata": {
  "interpreter": {
   "hash": "81794d4967e6c3204c66dcd87b604927b115b27c00565d3d43f05ba2f3a2cb0d"
  },
  "kernelspec": {
   "display_name": "Python 3.9.0 64-bit",
   "language": "python",
   "name": "python3"
  },
  "language_info": {
   "name": "python",
   "version": "3.9.0"
  },
  "orig_nbformat": 4
 },
 "nbformat": 4,
 "nbformat_minor": 2
}
