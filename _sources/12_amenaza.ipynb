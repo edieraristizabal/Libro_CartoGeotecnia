{
 "cells": [
  {
   "cell_type": "markdown",
   "metadata": {},
   "source": [
    "# Amenaza\n",
    "La amenaza se define como la probabilidad de ocurrencia de un fenómeno potencialmente destructivo en un periodo de tiempo específico y sobre una determinada área. En este sentido, la zonificación de la amenaza corresponde a la subdivisión del terreno en zonas que son caracterizadas por la probabilidad temporal de la ocurrencia de movimientos en masa de un volumen particular, en un periodo de tiempo dado. Por lo que los mapas de amenaza por movimientos en masa deben indicar tanto el área donde el movimiento puede ocurrir, como la zona de propagación. Una completa evaluación de la amenaza por movimientos en masa cuantitativa incluye:\n",
    "\n",
    "* **Probabilidad espacial ($P_s$):**. La probabilidad que un área dada sea golpeada por un deslizamiento\n",
    "* **Probabilidad temporal ($P_t$):**. La probabilidad que un evento detonante dado causará un deslizamiento\n",
    "* **Probabilidad tamaño/volumen ($P_m$):**. La probabilidad que un deslizamiento tenga un determinado tamaño y volumen\n",
    "* **Probabilidad propagación ($P_p$):**. La probabilidad que un deslizamiento alcanzará una cierta distancia ladera abajo\n",
    "\n",
    "## Probabilidad espacial\n",
    "La probabilidad espacial corresponde a la susceptibilidad del terreno a ocurrir un movimiento en masa, por lo tanto responde a la pregunta del **dónde?**. Se obtienen esencialmente a partir de métodos que incorporan las variables condicionantes, tales como metodologias basados en el conocimiento (heurísticas) o basadas en datos (estadísticas). Los métodos con base física generalmente incorporan dentro del análisis el factor detonante, por lo cual pueden ser consideradas para evaluar la amenaza directamente.\n",
    "\n",
    "Existen diferentes formas de expresar la probabilidad espacial de los movimientos en masa:\n",
    "\n",
    "* **Cualitativo**. implementa términos como *alto, *medio* y *bajo*, y se utiliza generalmente en métodos heurísticos directos, como mapeo geomorfologico métodos de algebra de mapas basado en índices, en los cuales a partir de una escala numérica seleccionada se otorgan valoraciones a cada variable que posteriomente se combinan para obtener una sumatoria o un valor medio ponderado.\n",
    "* **Densidad de movimientos en masa**. En este caso la probabilidad corresponde a una densidad (MenM/$km_2$) o un porcetanje. Este porcentaje  generalmente se obtiene del numero de movimientos en masa del total de eventos del inventario o el número de celdas inestables del total de celdas del área de estudio. Para el el caso de poligonos o sub áreas del total en lugar de utilizar el total de movimientos en masa del inventario o el total de celdas, se utiliza solamente el número de movimientos en masa o celdas del área determinada.\n",
    "\n",
    "* **Cualitativo**. El cual se utiliza para escalas regionales y métodos heurísticos, doden no existe información disponible con respecto a la ocurrencia de los movimientos en masa. En este caso se utilizan términos como: (i) casi seguro (el evento es esperado que ocurra), (ii) probable (el evento probablemente ocurrirá bajo condiciones adversas), (iii) posible (el evento podría ocurrir bajo condiciones adversas), (iv) improbable (el evento podría ocurrir bajo circunstancias muy adversas), (v) raro (el evento es concebible pero solamente bajo circunastancias excepcionales), (vi) no creible (el evento es inconcebible o imaginable).\n",
    "* **Número de eventos**. Corresponde al número de movimientos en masa de ciertas características que ocurren en un área específica en un intervalo de tiempo dado. Se utiliza para métodos heurísticos, o doden se cuenta con poca información como inventario históricos o multitemporales.\n",
    "* **Probabilidad**.  Corresponde a la probabilidad de una ladera particular de sufrir movimientos en masa en un periodo dado. Se utilizan para estudios donde se cuenta con suficiente informacion del actor detonante y/o del inventario de movimientos, tales como métodos basados en datos o métodos con base física. Para el caso de métodos basados en datos (estadísticos) se obtienen a partir de métodos \n",
    "\n",
    "\n"
   ]
  },
  {
   "cell_type": "markdown",
   "metadata": {},
   "source": [
    "## Referencias\n",
    "```{bibliography}\n",
    ":style: plain\n",
    ":filter: docname in docnames\n",
    "```"
   ]
  }
 ],
 "metadata": {
  "interpreter": {
   "hash": "81794d4967e6c3204c66dcd87b604927b115b27c00565d3d43f05ba2f3a2cb0d"
  },
  "kernelspec": {
   "display_name": "Python 3.9.0 64-bit",
   "language": "python",
   "name": "python3"
  },
  "language_info": {
   "name": "python",
   "version": "3.9.0"
  },
  "orig_nbformat": 4
 },
 "nbformat": 4,
 "nbformat_minor": 2
}
