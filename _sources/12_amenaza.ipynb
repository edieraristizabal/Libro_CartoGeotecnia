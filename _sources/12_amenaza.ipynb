{
 "cells": [
  {
   "cell_type": "markdown",
   "metadata": {},
   "source": [
    "# Amenaza\n",
    "{cite:t}`Varnes1984` define la amenaza como la probabilidad de ocurrencia de un fenómeno potencialmente destructivo en un periodo de tiempo específico y sobre una determinada área. {cite:t}`Guzzetti1999` incluye además, como parte de la amenaza, la magnitud o intensidad de los movimientos en masa como un componente fundamental dentro de la amenaza. De igual forma se debe considerar la propagación, especialmente para movimientos en masa tipo flujos, que se caracterizan por recorridos extensos donde generalmente se presentan los daños o afectaciones. \n",
    "\n",
    "En este sentido, la zonificación de la amenaza corresponde a la subdivisión del terreno en zonas que son caracterizadas por la probabilidad temporal de la ocurrencia de movimientos en masa de un volumen particular, en un periodo de tiempo dado. Por lo que los mapas de amenaza por movimientos en masa deben indicar tanto el área donde el movimiento puede ocurrir, como la zona de propagación. Una completa evaluación de la amenaza por movimientos en masa cuantitativa incluye:\n",
    "\n",
    "* **Probabilidad espacial ($P_s$):**. La probabilidad que un área dada sea golpeada por un deslizamiento\n",
    "* **Probabilidad temporal ($P_t$):**. La probabilidad que un evento detonante dado causará un deslizamiento\n",
    "* **Probabilidad tamaño/volumen ($P_m$):**. La probabilidad que un deslizamiento tenga un determinado tamaño y volumen\n",
    "* **Probabilidad propagación ($P_p$):**. La probabilidad que un deslizamiento alcanzará una cierta distancia ladera abajo\n",
    "\n",
    "Para calcualr la amenaza, muchos autores proponen considerar las diferentes probabildades como independientes, de tal forma que la amenaza puede ser calculada como el producto de todas las probabilidades.\n",
    "\n",
    "\n"
   ]
  },
  {
   "cell_type": "markdown",
   "metadata": {},
   "source": [
    "## Probabilidad espacial\n",
    "La probabilidad espacial corresponde a la susceptibilidad del terreno a ocurrir un movimiento en masa, por lo tanto responde a la pregunta del **dónde?**. Se obtiene esencialmente a partir de métodos que incorporan las variables condicionantes, tales como metodologias basados en el conocimiento (heurísticas) o basadas en datos (estadísticas). Los métodos con base física generalmente incorporan dentro del análisis el factor detonante, por lo cual pueden ser consideradas para evaluar la amenaza directamente.\n",
    "\n",
    "Existen diferentes formas de expresar la probabilidad espacial de los movimientos en masa:\n",
    "\n",
    "* **Cualitativo**. Implementa términos como *alto*, *medio* y *bajo*, y se utiliza generalmente en métodos heurísticos directos, como mapeo geomorfologico, y métodos de algebra de mapas basado en índices, en los cuales a partir de una escala numérica seleccionada se otorgan valoraciones a cada variable que posteriomente se combinan para obtener una sumatoria o un valor medio ponderado.\n",
    "* **Densidad de movimientos en masa**. En este caso la probabilidad corresponde a una densidad (MenM/$km_2$) o un porcentaje. Este porcentaje  generalmente se obtiene del número de movimientos en masa del total de eventos del inventario o el número de celdas inestables del total de celdas del área de estudio. Es también utilizado estimar la probabilidad espacial para cada categoría (*alta*, *media* y *baja*) a partir de la razón entre el área de movimientos en masa o celdas de la categoría y el área total o el número de celdas de la categoría. En este caso toda las celdas de la misma categoría tienen la misma probaildaid espacial.\n",
    "* **Probabilidad**. Algunos métodos estadísticos, como regresión logística, arrojan resultados que generalmente son interpretados como probabilidad. En este caso cada celda presenta una valor entre *0* y *1*. Donde *0* es que la probabilidad de ocurrencia de movimiento en masa en dicha celda es muy baja, tendiendo a *0*, y *1* que la probabilidad es muy alta. Como cada celda presenta un valor entre *0* y *1* es necesario definir rangos de probabilidad que representa la categoria, *bajo*, al igual que *medio* y *alto*."
   ]
  },
  {
   "cell_type": "markdown",
   "metadata": {},
   "source": [
    "## Probabilidad temporal\n",
    "Mientras la probabilidad espacial está en función de las variables condicionantes, la probabilidad temporal está en función del factor detonante. Por lo tanto responde a la pregunta del **cuándo?**. Existen diferentes formas de expresar la probabilidad temporal de los movimientos en masa:"
   ]
  },
  {
   "cell_type": "markdown",
   "metadata": {},
   "source": [
    "### Cualitativo\n",
    " El cual se utiliza para escalas regionales y métodos heurísticos, donde no existe información disponible con respecto a la ocurrencia de los movimientos en masa. En este caso se utilizan términos como: (i) casi seguro (el evento es esperado que ocurra), (ii) probable (el evento probablemente ocurrirá bajo condiciones adversas), (iii) posible (el evento podría ocurrir bajo condiciones adversas), (iv) improbable (el evento podría ocurrir bajo circunstancias muy adversas), (v) raro (el evento es concebible pero solamente bajo circunastancias excepcionales), (vi) no creible (el evento es inconcebible o imaginable)."
   ]
  },
  {
   "cell_type": "markdown",
   "metadata": {},
   "source": [
    "### Análisis de frecuencia de movimientos en masa pasados\n",
    " Se utiliza cuando se cuenta con inventarios de eventos en un periodo específico y sin necesidad de discriminar el factor detonante. Los mas utilizados son el modelo de probabilidad de Poisson y el modelo Binomial a partir del intervalo de recurrencia de movimientos en masa registrados.\n",
    "\n",
    "#### Probabilidad de *Poisson*\n",
    "La probabilida de *Poisson* de experimentar un número *n* de movimientos en masa durante un tiempo *t* está dada por:\n",
    "\n",
    "$P[N(t)=n]=e^{-\\lambda t} \\frac{(\\lambda t)^n}{n!}$\n",
    "\n",
    "Donde $\\lambda$ es la probabilidad de ocurrencia media de un movimiento en masa. Sin embargo es mas útil para análisi de amenaza conocer la probabildaid que ocurra uno o mas movimientos en masa en un tiempo *t*:\n",
    "\n",
    "$P[N(t)] \\geq 1= 1-P[N(t)=0]=1-e^{-\\lambda t}= 1-e^{-t/u}$\n",
    "\n",
    "Donde $u$ es el intervalo de recurrencia media entre movimientos en masa en años, $u=1/\\lambda$\n",
    "\n",
    "##### Ejemplo\n",
    "Suponga un registro de movimientos en masa de los pasados 100 años que señala la ocurrencia de 5 movimientos en masa.\n",
    "\n",
    "$\\lambda=5/100=0.05$\n",
    "\n",
    "Se esperaría uan tasa de recurrencia de 0.05 por año.\n",
    "\n",
    "$u=1/\\lambda=t/n=100/5=20$\n",
    "\n",
    "Se esperaría un intervalo de recurrencia media de 20 años.\n",
    "\n",
    "POr loq eu se podría estiamr la probbaildiad de 1 o mas movimientos en masa ocurran durante un tiempo futuro *t*. Para un periodo de 50 años la probaildaid sería:\n",
    "\n",
    "$P[N(50)\\geq 1]= 1-e^{-50/20}= 0.918$\n",
    "\n",
    "#### Probabilidad binomial\n",
    "La probabildiad Binomial es muy similar, doden la probabilidad de tener 1 o mas movimientos en masa en un periodo *t* es:\n",
    "\n",
    "$P[N(t)\\geq 1]=1-(1-1/u)^t$\n",
    "\n",
    "##### Ejemplo\n",
    "Para el caso anterior se obtendría:\n",
    "\n",
    "$P[N(50)\\geq 1]=1-(1-1/20)^{50}=0.923$"
   ]
  },
  {
   "cell_type": "markdown",
   "metadata": {},
   "source": [
    "### Análisis del factor detonante\n",
    "La probabilidad temporal a partir del factor detonante se puede establecer utilizando métodos con base física o métodos empíricos con umbrales, este último especialmente para el caso de la lluvia como factor detonante. \n",
    "\n",
    "En el caso del uso de modelos con base física la probabilidad temporal se estima generalmente en términos del período de retorno del evento detonante con una determinada magnitud. Estos métodos incorporan dentro del análisis la intensidad o magnitud del factor detonante. En modelos como SHALSTAB o TRIGRS que incorporan la lluvia como factor detonante, la probabilidad temporal corresponde al evento de lluvia utilizado yq uqe debe ser obtenida a partir de analisis de las series de lluvia como parte del análisis hidrológico. en estso casos es muy comun utilizar curvas Intensidad - Duración - Frecuencia (IDF), en las cuales, ademas de obtener la duración e intensidad de un evento especifico de lluvia se tiene además el periodo de retorno de dicho evento.\n",
    "\n",
    "Para los métodos empíricos basads en umbrales se utiliza generalemnte la probabilidad de ocurrencia de un movimiento en masa dado que se exceda un umbral, o la probabilidad condicionada que un movimiento en masa ocurra dado un evento de magnitud dada. \n",
    "\n",
    "#### Lluvia\n",
    "Para movimientos en masa detonados por lluvia, {cite:t}`Berti2012` proponen utilizar la probabilidad condicionada, definida como la probabilidad de la ocurrencia de algún evento *L* (en nuestro caso un movimiento en masa) dado la ocurrencia  de algún otro evento *R* (un evento de lluvia con una magnitud específica, expresado en términos de lluvia total, intensidad o cualquier otra variable). La probabilidad condicionada se escribe $P(L/R)$ y se lee *la probabilidad que un movimiento en masa (L) ocurra dado un evento de lluvia (R)*. Esta probabilidad está determinada por el teorema de *Bayes*:\n",
    "\n",
    "$P(A/B)=\\frac{P(B/A)P(A)}{P(B)}$\n",
    "\n",
    "Donde:\n",
    "\n",
    "$P(B/A)$= probabilidad condicionada de R dado L(tambien llamado probabilidad (*likelihood*)), que es la probabilidad de observar un evento de lluvia de magnitud R cuando ocurre un movimiento en masa.\n",
    "\n",
    "$P(A)$= probabilidad apriori de A, que es la probabilidad de ocurrencia de un movimiento en masa sin importar si un evento de lluvia de magnitud B ocurre o no.\n",
    "\n",
    "$P(B)$= probabildiad marginal de B, que es la probabilidad de observar un evento de lluvia de magnitud R sin importar si un movimiento en masa ocurre o no.\n",
    "\n",
    "$P(A/B)$= probabilidad condicionada de A dado B (tambien llamada probabilidad posterior), que es la probabilidad de ocurrencia un movimiento en masa cuando un evento de lluvia de magnitud B ocurra.\n",
    "\n",
    "La probabilidad *Bayesiana* se obtiene usualmente en términos de frecuencias relativas. Por lo que $N_R$ es el número total de eventos de lluvia registrados durante un tiempo de referencia dado; $N_A$ es el número total de movimientos en masa ocurridos durante el mismo periodo de tiempo; $N_B es el número de eventos de lluvia de magnitud B; y $N_{B/A}$ es el número de eventos de lluvia de magnitud B que generaron movimientos en masa. En este caso los términos de probabilidades se pueden aproximar a:\n",
    "\n",
    "$P(A)\\approx N_A/N_R$\n",
    "\n",
    "$P(B)\\approx N_B/N_R$\n",
    "\n",
    "$P(B/A)\\approx N_{B/A}/N_A$\n",
    "\n",
    "Por lo que el teorema de *Bayes* se reduce a:\n",
    "\n",
    "$P(A/B)\\approx N_{B/A}/N_B$\n",
    "\n",
    "#### Ejemplo\n",
    "Si asumimos que 10 movimientos en masa ocurren en una cierta área durante un tiempo dado de referencia, y que 8 de estos movimientos en masa fueron detonados por eventos de lluvia B con una intensidad I>50mm/dia.\n",
    "\n",
    "Se podria pensar **erroneamente** que  un evento de lluvia de magnitud B (I>50mm/dia) tiene una probabilidad $8/10=0.8$ de detonar un movimiento en masa. Esto es equivocado por qué $8/10$ indica la probabilidad de $P(B/A)$ de observar un evento de lluvia de magnitud B cuando ocurre un movimiento en masa, no la probabilidad $P(A/B)$ de observar un movimiento en masa cuando ocurre un evento de lluvia B. Es por esta razon que umbrales de lluvia solamente basados en los eventos de lluvia que detonaron movimientos en masa (*likelihood*) no tiene mucho sentido, ya que las probabilidades apriori y marginales no son consideradas. De acuerdo con el teorema de *Bayes* el valor de $P(A/B)$ depende de $P(B/A)$ y también de las probabilidades apriori y marginales.\n",
    "\n",
    "Por lo tanto, si 1000 eventos de lluvia ocurren en el área considerada y 200 de ellos tienen una intensidad mayor a 50mm/dia, se tiene:\n",
    "\n",
    "$P(A)=10/1000=0.01$\n",
    "\n",
    "$P(B)=P(I>50)=200/1000=0.2$\n",
    "\n",
    "Entonces:\n",
    "\n",
    "$P(A/B)=P(A/I>50)=\\frac{0.8*0.01}{0.2}=0.04$\n",
    "\n",
    "De acuerdo con {cite:t}`Jaiswal2009` la probabilidad temporal de movimientos en masa detonados por lluvias puede ser obtenida evaluando la probabilidad temporal de los eventos de lluvia, combinado con un análisis de umbrales de lluvia, el cual se define como la intensidad minima o duración requerida para detonar un movimiento en masa. Los umbrales de lluvia están basados en variables como lluvia acumulada, lluvia antecedente, intensidad de la lluvia y duración de la lluvia. Estos autores proponen utilizar la probabilidad de excedencia de un umbral de lluvia y la probabilidad de ocurrencia de un movimiento en masa relacionado al umbral de lluvia. \n",
    "\n",
    "Para que un movimiento en masa $L$ ocurra, la lluvia acumulada diaria debe exceder un umbral, el cual es una función $R(t)$ de la lluvia total en un periodo $R_d(t)$, y de la cantidad de lluvia antecedente $R_{ad(t)}$. \n",
    "\n",
    "Si $R_T$ es el valor del umbral de $R$ entonces la probabilidad de ocurrencia de un movimiento en masa $P(L)$ depende de la probabildid de excedencia de $P[R>R_T]$. Por lo tanto, la probabilidad de ocurrencia de movimientos en masa puede ser dada por la intersección de dos probabilidades:\n",
    "\n",
    "$P[(R>R_T)L]=P[R>R_T]P[L/R>R_T]$\n",
    "\n",
    "Esto significa que la probabilidad de ocurrencia de [$R>R_T$] y [$L$] es igual a la probabilidad de [$R>R_T$] multiplicada por la probabilidad de ocurrencia de [L], asumiendo que [$R>R_T$] ha ocurrido. La probabilidad de [$R>R_T$] puede ser obtenida determinando la probabilidad de excedencia del umbral de lluvia y la probabilidad de [$L R>R_T$] se eencuentra en la frecuencia de ocurrencia de movimientos en masa luego que el umbral ha sido excedido."
   ]
  },
  {
   "cell_type": "markdown",
   "metadata": {},
   "source": [
    "\n",
    "## Probabilidad de magnitud"
   ]
  },
  {
   "cell_type": "markdown",
   "metadata": {},
   "source": [
    "## Referencias\n",
    "```{bibliography}\n",
    ":style: plain\n",
    ":filter: docname in docnames\n",
    "```"
   ]
  }
 ],
 "metadata": {
  "interpreter": {
   "hash": "81794d4967e6c3204c66dcd87b604927b115b27c00565d3d43f05ba2f3a2cb0d"
  },
  "kernelspec": {
   "display_name": "Python 3.9.0 64-bit",
   "language": "python",
   "name": "python3"
  },
  "language_info": {
   "name": "python",
   "version": "3.9.7"
  },
  "orig_nbformat": 4
 },
 "nbformat": 4,
 "nbformat_minor": 2
}
