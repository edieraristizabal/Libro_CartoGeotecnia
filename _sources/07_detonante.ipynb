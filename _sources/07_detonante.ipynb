{
 "cells": [
  {
   "cell_type": "markdown",
   "metadata": {},
   "source": [
    "# Factores detonantes"
   ]
  },
  {
   "cell_type": "markdown",
   "metadata": {},
   "source": [
    "## La precipitación como factor detonante\n",
    "\n",
    "Los movimientos en masa detonados por lluvias, generalmente denominados deslizamientos superficiales planares o *soil slip*, se caracterizan por su pequeño espesor (0,3 – 2 m) mucho menor a la longitud del movimiento, superficie de falla sub paralela a la pendiente y escarpe de área reducida (Anderson  & Sitar, 1995). Estos movimientos son generados durante eventos intensos de lluvia por el aumento rápido de la presión de poros o por la pérdida del componente de cohesión aparente (Wang & Sassa, 2003; Terlien, 1998; Crosta, 1998; Crosta & Frattini, 2003). Posteriormente el material desplazado, por procesos de licuefacción  o reducción rápida de la resistencia al cortante en condiciones no drenadas (Anderson & Sitar, 1995), se convierte en un flujo que se propaga ladera abajo erodando y trasportando sedimentos del canal, incrementando el volumen de material inicial desplazado (Wang & Sassa, 2003; Wieczorek et al., 2000). Para suelos parcialmente saturados, Li et al. (2005) describen dicho proceso como el resultado de la infiltración de lluvia que reduce la succión de la matriz de los suelos en la ladera, esa reducción reduce a su vez la resistencia al cortante del material. Una vez el suelo está completamente saturado, la succión desaparece completamente, y un nivel freático colgado con presión de poros positiva se desarrolla. Esta presión de poros positiva reduce aun más la resistencia al cortante aumentando la probabilidad de ocurrencia de un movimiento.\n",
    "\n",
    "Gostelow (1991) e Iiritano et al. (1998) consideran que la lluvia puede actuar de dos formas diferentes en la estabilidad de las laderas: (1) eventos de lluvia muy intensos que causan una reducción de la resistencia al cortante por reducción de la cohesión aparente generando movimientos inicialmente superficiales y (2) eventos de lluvia de larga duración que causan el incremento en la presión de poros sobre una superficie de falla potencial generando movimientos de masa mucho más profundos y frecuentemente a lo largo de superficies de cizalla pre-existentes. Los movimientos superficiales son usualmente detonados por lluvias cortas e intensas (Crosta, 1998), en tanto que los movimientos profundos están más relacionados con la distribución y variación de la lluvia en periodos largos (Aleotti, 2004). \n",
    "\n",
    "Wilson & Wieczorek (1995) sugieren que la precipitación puede inducir la generación de una zona saturada con el incremento lógico del nivel freático, especialmente para perfiles poco profundos; y por otro lado, Rahardjo et al. (1995) sugieren que un nivel freático colgado y temporal se forma en perfiles de suelo profundos, entre la superficie del terreno y el frente húmedo, reduciendo la presión de poros negativa e iniciando un flujo paralelo a la ladera que contribuye a la inestabilidad de la vertiente (Crosta, 1998). Estas consideraciones permiten evaluar la presión de poros generada por el aumento de una capa saturada sobre una superficie de falla crítica predefinida, o por el contrario evaluar el desarrollo de la presión de poros a partir del avance de un frente húmedo. \n",
    "\n",
    "Collins & Znidarcic (2004) proponen dos distintos mecanismos de falla generados por la infiltración. En el primer mecanismo la falla ocurre el aumento en la presión de poros positiva originando licuefacción del material, en tanto el segundo mecanismo la falla ocurre en presiones de poros negativas donde el material está aun en estado no saturado y la falla ocurre por reducción de la succión y la masa se comporta similar a un cuerpo rígido. Suelos de grano fino y baja infiltración no tienden a desarrollar presiones de poros positivas y la falla ocurre generalmente por reducción de la resistencia al cortante causada por pérdida de succión. En general los movimientos en masa superficiales están asociados con el desarrollo de presiones de poros positivas mientras movimientos más profundos están asociados a pérdida de succión (Collins & Znidarcic, 2006).\n",
    "\n",
    "Para describir los mecanismos que dan lugar a dichos eventos es necesario conocer el perfil de meteorización y comprender el comportamiento del agua a través del suelo. Inicialmente el agua precipitada se infiltra en el suelo en función de la permeabilidad de los horizontes superficiales del suelo. Cuando la intensidad de la lluvia es mayor a la permeabilidad del suelo los excedentes de agua drenan sobre la superficie de acuerdo con la pendiente y morfología del terreno. Entre tanto el agua que se infiltra ocupa los poros en el suelo y tiende a drenar hacia horizontes de suelo más profundos por efectos de la gravedad. Sin embargo los suelos pueden mantener un contenido de agua dentro de los poros más pequeños, debido a la adhesión (agua higroscópica) y la tensión superficial (agua capilar) que actúan como una película alrededor de las partículas del suelo contrarrestando el efecto de la gravedad. La fracción de agua capilar es utilizable por las plantas, a diferencia del agua higroscópica que no puede ser extraída por las raíces de las plantas. Si el contenido de agua aumenta del contenido capilar entonces la gravedad es suficiente para superar las tensiones superficiales, y el exceso de agua, denominada agua gravitacional o libre, percola como un frente húmedo hacia profundidad.\n",
    "\n",
    ":::{figure-md} perfil1\n",
    "<img src=\"https://www.researchgate.net/profile/Edier-Aristizabal/publication/275723803/figure/fig2/AS:614061867802642@1523415166398/Water-content-into-the-soil-and-water-available-Root-depth-Z-r-soil-thickness-Z-s_W640.jpg\" alt=\"perfil1\" width=\"700px\">\n",
    "\n",
    "Contenido de agua en el suelo. Profundidad de raices (Zr), profundidad del suelo (Zs), humedad a punto de marchitex (Wpwp), humedad a capacidad de campo (Wfc), saturación (Ws)\n",
    ":::\n",
    "\n",
    "El proceso de percolación es controlado por el perfil de suelo. La parte superior de los horizontes de suelo, que generalmente corresponden a suelos residuales, se caracterizan por la extinción total de la fábrica y estructura de la roca parental, y la influencia de la vegetación, la perturbación de los animales y los procesos químicos, que generan macroporos o estructuras relictas abiertas que incrementan en varios órdenes de magnitud la conductividad del agua en el suelo. A estos horizontes altamente perturbados le siguen horizontes saprolitícos, definidos como un material blando producto de la meteorización química de las rocas, y caracterizados por la formación de minerales secundarios, en los que la estructura y fábrica originales son preservadas debido al emplazamiento seudomórfico de los minerales originales sin alteración y transporte subsecuentes (Fookes, 1997; Voicu & Bardoux, 2002). Debido a sus características físicas la conductividad hidráulica del suelo saprolítico es mucho menor a la capa superior de suelo residual, formando un contraste entre las conductividades, donde la tasa de lluvia e infiltración excede la tasa de percolación. A partir de esta superficie se forma como consecuencia un nivel freático colgado y flujo lateral saturado paralelo a la ladera denominado flujo subsuperficial (Crosta, 1998; Wilson & Wieczorek 1995; Rahardjo et al. 1995). "
   ]
  },
  {
   "cell_type": "markdown",
   "metadata": {},
   "source": [
    ":::{figure-md} perfil\n",
    "<img src=\"https://i.pinimg.com/564x/97/3e/bb/973ebb0ba09a295860f11f5ebf7df5ff.jpg\" alt=\"perfil\" width=\"500px\">\n",
    "\n",
    "Típico perfil de meteorización simplificado en ambientes tropicales.\n",
    ":::"
   ]
  },
  {
   "cell_type": "markdown",
   "metadata": {},
   "source": [
    "Adicional a este mecanismo de percolación del agua a través del perfil de suelo, existen macroporos o conductos comunicados que conectan directamente horizontes superficiales con niveles más profundos de suelo permitiendo la percolación, saturación e incremento del nivel freático colgado a velocidades considerablemente mayores.\n",
    "\n",
    "Estos mecanismos de percolación y saturación del suelo permiten entonces evaluar la estabilidad de una ladera ante la lluvia por el incremento de la presión de poros generadas por el avance de un frente húmedo a partir de la superficie del suelo, o por el contrario por el aumento de un nivel freático colgado desde un cambio de la conductividad hidráulica en el perfil de suelo \n",
    "\n",
    ":::{figure-md} pwt\n",
    "<img src=\"https://i.pinimg.com/564x/d7/62/cf/d762cf27e7612a7e27912afa3cbfd4c8.jpg\" alt=\"perched water table\" width=\"400px\">\n",
    "\n",
    "Mecanismo de nivel freático colgado.\n",
    ":::\n",
    "\n",
    ":::{figure-md} frente humedo\n",
    "<img src=\"https://i.pinimg.com/564x/bd/de/3b/bdde3b4bdfcbdabd26005d022f154d17.jpg\" alt=\"frente humedo\" width=\"400px\">\n",
    "\n",
    "Mecanismo de avance del frente humedo.\n",
    ":::\n",
    "\n",
    "En términos de estabilidad los esfuerzos que son transmitidos al suelo son soportados por las partículas y los fluidos dentro de los poros. Sin embargo solo las partículas del suelo pueden soportar los esfuerzos de corte responsable de la ocurrencia de movimientos en masa. Por lo tanto, cuando la presión de poros aumenta los esfuerzos que son transmitidos a las partículas del suelo disminuyen porque son soportados por el agua en los poros, conservando los esfuerzos totales esencialmente constantes pero disminuyendo los esfuerzos efectivos (Graham, 1984). La situación más crítica para la estabilidad de la ladera corresponde cuando la zona saturada alcanza la superficie de la ladera y la presión de poros es máxima (Anderson & Sitar, 1995).\n",
    "\n",
    "La falla de la ladera se puede presentar durante o después del evento de lluvia en condiciones saturadas o parcialmente saturadas. Para condiciones parcialmente saturadas la falla puede ocurrir en presiones de poros negativas por reducción de la succión, y la masa de suelo fallada se comporta similar a un cuerpo rígido. Por otra parte, una vez el suelo está completamente saturado, la succión desaparece completamente, y se desarrollan presiones de poro positiva. Este aumento de presión de poros reduce la resistencia al cortante originando licuefacción estática del material o reducción rápida de la resistencia al cortante en condiciones no drenadas, y la masa de suelo fallada se comporta como un flujo (Collins & Znidarcic, 2004; Anderson & Sitar, 1995; Wang & Sassa, 2003; Li et al., 2005). \n",
    "\n",
    "Sin embargo es necesario tener en cuenta que para lograr una condición del suelo parcialmente saturado en ambientes tropicales húmedos, se requieren largos periodos de tiempo anteriores sin lluvia, y dicha condición no saturada se conserva justo en el comienzo del evento de lluvia. Por lo que durante el período de lluvia inicial, la condición no saturada controla la mecánica de suelos y los movimientos en masa superficiales se producen por la reducción de succión, pero después de un corto período de lluvias, las condiciones de saturación aparecen y controlan la ocurrencia de deslizamientos superficiales por presiones de poros positivas. Para las condiciones de clima tropical húmedo, la lluvia es un fenómeno común, lo que resulta en un perfil de suelo a capacidad de campo muy cerca a condiciones de saturación, y los deslizamientos de tierra en consecuencia son poco profundos y se producen en su mayoría debido a presiones de poro positivas.\n",
    "\n",
    "El flujo el agua en el suelo se presenta en dos escalas espaciales y temporales diferentes. El flujo horizontal en condiciones estáticas, y el flujo vertical en condiciones transitorias. Para considerar el aumento de la presión de poros como el resultado del flujo subsuperficial paralelo a la ladera se consideran condiciones de flujo estáticas que evalúan el control topográfico en la presión de poros. Por el contrario, cuando se quiere considerar el aumento de presiones de poros por el avance del frente húmedo generalmente se consideran flujos dinámicos transitorios. En términos generales los autores concuerdan que las condiciones de flujo estáticas responden a condiciones iniciales o antecedentes como resultado del largo plazo, en tanto que las condiciones transitorias responde a eventos de lluvia específicos. Por lo tanto la cabeza de presión de agua dentro del suelo puede ser expresada como la suma de dos componentes, la cabeza producida por el flujo lateral en el largo plazo en estado estático asociado a la lluvia antecedente, y la respuesta de la cabeza de presión en el corto plazo en estado transitorio asociado a un evento de lluvia específico (Iverson, 2000; D´Odorico et al., 2005; Sharma & Nakagawa, 2005; Huat et al, 2006; Collins & Znidarcic, 2004). "
   ]
  },
  {
   "cell_type": "markdown",
   "metadata": {},
   "source": [
    "## Los sismos como factor detonante\n",
    "En general es considerado que sismos a partir de $M_L 4.0$ tienen la capacidad de detonar movimientos en masa ({cite:t}`Keefer1984`)\n",
    "\n"
   ]
  },
  {
   "cell_type": "markdown",
   "metadata": {},
   "source": [
    "## Referencias\n",
    "```{bibliography}\n",
    ":style: plain\n",
    ":filter: docname in docnames\n",
    "```"
   ]
  }
 ],
 "metadata": {
  "interpreter": {
   "hash": "81794d4967e6c3204c66dcd87b604927b115b27c00565d3d43f05ba2f3a2cb0d"
  },
  "kernelspec": {
   "display_name": "Python 3.9.0 64-bit",
   "language": "python",
   "name": "python3"
  },
  "language_info": {
   "name": "python",
   "version": "3.9.7"
  },
  "orig_nbformat": 4
 },
 "nbformat": 4,
 "nbformat_minor": 2
}
