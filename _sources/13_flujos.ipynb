{
 "cells": [
  {
   "cell_type": "markdown",
   "metadata": {},
   "source": [
    "# Movimientos en masa tipo flujos"
   ]
  },
  {
   "cell_type": "markdown",
   "metadata": {},
   "source": [
    "Aunque las avenidas torrenciales han sido un fenómeno común en Colombia, los estudios realizados al respecto son escasos. Probablemente una de las razones está asociada a la falta de un consenso con respecto a clasificación y terminología de fenómenos tipo flujos torrenciales que permita caracterizar adecuadamente qué son las avenidas torrenciales. La literatura técnica en inglés utiliza términos como flash flood, debris flood, debris torrent and debris flow para una gran cantidad de fenómenos de mezcla de agua y sedimentos que se transportan a lo largo de un cauce. Entre tanto en español existen términos como inundación súbita, avenida torrencial e incluso avalanchas para designar este tipo de fenómenos. \n",
    "\n",
    "En Colombia las avenidas torrenciales son entendidas como movimientos en masa o como crecientes súbitas, fenómenos aparentemente muy diferentes que implica el uso de métodos con enfoques diferentes. INGEOMINAS (2001) define las avenidas torrenciales como fenómenos de remoción en masa donde el agua de una corriente aumenta considerablemente su volumen por el transporte de material solido que ha caído a su cauce desde las laderas adyacentes. En este mismo sentido, Castro (1999) propone establecer el uso del término avenidas torrenciales como un flujo de escombros canalizado. La Guía para la Evaluación de Amenazas por Movimientos en Masa en la Región Andina (PMA-GCA, 2007) define las avenidas torrenciales como flujos de detritos (debris flow) de acuerdo con la definición de Hungr et al (2001). Por otro lado, en el marco de los Planes de Ordenación y Manejo de Cuencas (POMCA) las avenidas torrenciales son entendidas como inundaciones de tipo fluvial rápidas o torrenciales. La Guía Técnica para la Incorporación de la Gestión del Riesgo en los POMCA define las avenidas torrenciales como crecientes súbitas que por las condiciones geomorfológicas de la cuenca están compuestas por un flujo de agua con alto contenido de materiales de arrastre, con un gran potencial destructivo debido a su alta velocidad (MADS, 2014). El Fondo de Prevención y Atención de Emergencias de la ciudad de Bogotá (FOPAE) define las avenidas torrenciales como sinónimo de inundaciones rápidas generadas por crecientes que ocurren de manera repentina debido a la alta pendiente del río o la quebrada y su cuenca, donde en ocasiones se produce el arrastre de una gran cantidad de material como detritos (FOPAE, 2011).\n",
    "\n",
    "Estas dos miradas sobre las avenidas torrenciales se reflejan en la reciente Guía Metodológica para la Evaluación de la Amenaza por Movimientos en Masa en Suelo Rural del Servicio Geológico Colombiano (SGC). En esta guía las avenidas torrenciales se consideran equivalentes a los flujos de detritos y flujos de lodos descritos por el PMA-CGA (2007), pero adopta la definición de la guía de los POMCA como procesos tipo flujo que incluye eventos generados sobre ríos y quebradas de alta montaña y en cuencas con características geomorfológicas que favorecen la alta acumulación de sedimentos sobre el cauce, cambios drásticos en el gradiente del afluente, alta densidad de drenaje y eventos de precipitación (MADS & UNAL, 2013).\n",
    "\n",
    "Estas dos miradas han dado como resultado metodologías con enfoques diferentes para evaluar la susceptibilidad o amenaza ante avenidas torrenciales. En la guía de los POMCA se propone el uso de índices morfométricos para evaluar la respuesta hidrológica de la cuenca, específicamente el Índice de Vulnerabilidad frente a Eventos Torrenciales (IVET), combinado con análisis geomorfológicos para evaluar el potencial aporte de sedimentos de la cuenca. Y en las guías que ha elaborado el SGC se han propuesto métodos estadísticos para evaluar la susceptibilidad por movimientos en masa sobre las laderas de la cuenca, como potencial aporte de sedimentos, combinado con análisis geomorfológico (Ingeominas, 1988; SGC, 2017). \n",
    "\n",
    "display.YouTubeVideo('0ENe7wDKP6I')\n",
    "\n",
    "Las diferencias entre fenómenos puramente hidrológicos y movimientos en masa están bien establecidas físicamente (Coussot and Meunier 1996; O’Brien and Julien 1985; Pierson and Costa 1987; Takahashi 1981); sin embargo, no existe unanimidad sobre definiciones específicas para flujos torrenciales que contienen una mezcla de agua y sedimentos en proporciones variables. De forma general, los flujos se definen como un fenómeno de transporte de sedimentos compuesto por una mezcla de material fino y grueso con una cantidad variable de agua, donde tanto las fuerzas sólidas como las fluidas influyen fuertemente (Iverson 1997; Nettleton et al. 2005). Según el tipo de proceso dominante y relación sedimentos-agua, esta mezcla es considerada desde procesos gravitacionales tipo flujo (Cruden and Varnes 1996) hasta procesos hidrológicos tipo inundaciones súbitas (NWS, 2005), donde en muchos casos el término flujo hiperconcentrado es utilizado para describir flujos intermedios entre estos dos fenómenos. \n",
    "\n",
    "Iverson (1997) distingue los procesos gravitacionales como aquellos donde las interacciones entre los fragmentos sólidos dominan la transferencia de momento, y las inundaciones cargadas de sedimentos como aquellas donde la turbulencia del fluido domina la transferencia de momento; para casos intermedios usa el término flujos de escombros, donde los sólidos y fluidos deben transferir el momento de forma sinérgica para sostener el movimiento. Takahashi (1981) distingue el transporte de sedimentos entre flujos fluidos y movimientos en masa, porque mientras que en los fluidos las fuerzas de arrastre y levantamiento, dadas por la alta velocidad relativa, son claves para el transporte individual de partículas, en los movimientos tipo caída, deslizamiento o flujos todas las partículas, así como el fluido intersticial, son movidos por la fuerza de la gravedad, de modo que la velocidad relativa entre la fase sólida y la líquida desempeña un papel menor. En este mismo sentido, Ancey (2001) distingue entre dos regímenes de flujo, flujos de dos fases, donde el agua es el agente principal y el pequeño porcentaje de sedimentos es transportado como carga de fondo y por suspensión; y flujos de una fase, compuestos por una mezcla altamente concentrada de sedimentos y agua. Sin embargo, Pierson (2005) propone que, además de la concentración de sedimentos suspendidos, la distribución del tamaño de granos y la densidad de los granos se debe utilizar para definir las mezclas sedimento-agua.\n",
    "\n",
    "Diferentes autores han propuesto límites de concentración en peso y volumen para diferenciar flujos de agua con flujos hiperconcentrados y flujos de escombros. En general se proponen valores por encima del 30% en volumen para flujos hiperconcentrados, y valores por encima del 70% en volumen para flujos gravitacionales (Bradley 1986).\n",
    "\n",
    "En terminos del origen, diferentes causas han sido descritas como detonantes de flujos torrenciales, Slaymaker (1988) divide los mecanismos detonantes como internos y externos. Los mecanismos externos se refieren a intensos o prolongados eventos de lluvia, sismos, enjambre de avalanchas de escombros o avalanchas de nieve (Miles 1957), rotura de presas naturales y su liberación instantánea (Takahashi 1981), y entre los mecanismos internos, Slaymaker (1988) resalta la desestabilización y removilización de los sedimentos del cauce.\n",
    "\n",
    "\n",
    "En la literatura existen clasificaciones para procesos gravitacionales, donde se incluyen fenómenos tipo flujos de escombros canalizados (Cruden & Varnes 1996; Hutchinson 1988; Varnes 1978). Cruden and Varnes (1996) y Varnes (1978) clasifican los procesos gravitacionales de vertiente según el tipo de movimiento y los materiales. En estas clasificaciones, los flujos se definen como un movimiento espacialmente continuo en el que las superficies de cizallamiento son de corta duración, están poco espaciadas y generalmente no se conservan. De acuerdo con el tamaño del material, podrían denominarse flujos de tierra cuando las partículas son menores de 2 mm, o flujos de escombros cuando dominan las partículas de tamaño grueso. Hutchinson (1988) y Nettleton et al. (2005) distinguen dos formas de flujos de escombros: aquellos que forman su propio camino hacia abajo de las laderas del valle, flujos de escombros de laderas, y los flujos de escombros canalizados que siguen los canales existentes.\n",
    "\n",
    "Existen tambien clasificaciones de flujos de escombros, en las que se utiliza el término para nombrar una mezcla de agua y sedimentos en diferentes proporciones (O’Brien & Julien 1985). Crosta et al. (1990) proponen usar el término flujos de escombros en un significado amplio, dividiéndolos en cuatro categorías: (i) Flujos de escombros no canalizados en drenajes de orden cero, originados como desgarres superficiales, (ii) Flujos de escombros en cuencas canalizadas de pendientes medias, originados como deslizamientos rotacionales o traslacionales, (iii) Avalanchas de escombros en intercuencas de pendientes mayores a 45°, (iv)  Torrente de escombros que se dan inicio en valles estrechos, causados por la falla o ruptura de presas generadas por deslizamientos, flujos de escombros o bloqueos de avalanchas de nieve.\n",
    "\n",
    "Entre tanto, O’Brien and Julien (1985) proponen una clasificación para flujos de acuerdo con las propiedades controladas por la concentración de sedimentos, cuya clasificación va desde inundaciones hasta movimientos en masa. Los autores identifican cinco categorías de flujos: (i) Crecientes: Definidos como inundaciones de agua por descargas excesivas donde los sedimentos son transportados a través de suspensión y saltación por el lecho, (ii) Inundaciones de lodo: Flujos donde la concentración de sedimentos finos varía de 20 a 45% por volumen, (iii) Flujos de lodo: Flujos donde la concentración de sedimentos finos varía de 45 a 50% por volumen, (iv) Flujos de escombros: Aplicado a flujos de lodo con más del 50% de sedimentos más gruesos que arena, (v) Deslizamientos: Movimiento en masa donde la concentración por volumen de sedimentos es mayor al 50%.\n",
    "\n",
    "Coussot & Meunier (1996) proponen una clasificación en función de la concentración de sedimentos y el tipo de material, la cual varía desde flujos de corriente, donde los sedimentos son transportados por suspensión y carga de fondo hasta deslizamientos. Como términos intermedios entre estos dos fenómenos se encuentran los flujos hiperconcentrados, flujos de lodo, flujos de escombros y flujos granulares.  \n",
    "\n",
    "Iverson (1997) incluye dentro de la categoría de flujos de escombros una gran cantidad de fenómenos como deslizamientos de escombros, torrentes de escombros, inundaciones de escombros, flujos de lodo, deslizamientos de lodo, y lahares para flujos de escombros de origen volcánico. \n",
    "\n",
    "Pierson & Costa (1987) proponen una clasificación de mezclas sedimento - agua basada en la concentración de sedimentos y la velocidad media del flujo, y dividen los flujos en dos tipos diferentes: (i) Flujos líquidos aparentes: caracterizados por tener pequeñas concentraciones de sedimentos, divididos a su vez en flujos de corriente, para flujos donde el agua es la fase continua, y flujos de corrientes hiperconcentrados, para flujos donde la mezcla de agua y sedimentos presenta un límite elástico medible, pero aún parece fluir como un líquido. (ii) Fluidos plásticos: donde hay una mayor concentración de sedimentos, divididos en flujos de lodo y flujos granulares de acuerdo con el tamaño de los sedimentos. \n",
    "\n",
    "Hungr et al. (2001) y Oldrich Hungr, Leroueil, & Picarelli (2014) proponen una clasificación de movimientos en masa tipo flujo donde incluyen el término inundación súbita como sinónimo de inundación de escombros, y lo definen como un flujo de agua muy rápido, fuertemente cargado con detritos en un canal de alta pendiente, y un caudal pico comparable a las inundaciones. En estos tipos de flujos el lecho de los cauces puede ser desestabilizado con el transporte masivo de sedimentos que excede el movimiento de fondo normal a través de la suspensión y saltación, pero que aún depende de las fuerzas de tracción del agua. Estos autores diferencian los eventos tipo inundación súbita de fenómenos tipo flujo de escombros, ya que estos últimos están limitados en canales o drenajes de primer y segundo orden de fuerte pendiente con áreas que alcanzan solo unos pocos kilómetros cuadrados y el volumen principal se da por el arranque y arrastre a lo largo de su recorrido, mientras que los eventos tipo inundación súbita, debido al arrastre del agua, pueden ocurrir en cuencas mucho más grandes y los depósitos se extienden sobre distancias mayores y áreas de menores pendientes. Como parte de eventos tipo inundación súbita incluyen los flujos generado por la ruptura repentina de lagos glaciales, denominados GLOFs (Glacial Lake Outburst Floods).\n",
    "\n",
    "Otras clasificaciones de mezclas de sedimentos y agua usan el término inundación súbita en un sentido general, para denominar flujos de alta descarga en corrientes que drenan cuencas hidrográficas pequeñas y de fuerte pendiente. El Servicio Geológico de los Estados Unidos (USGS por sus siglas en ingles), basado en Crosta et al. (1990) y Jakob & Hungr (2005), dividen las inundaciones súbitas en tres tipos de flujos: flujos de agua, flujos hiperconcentrados y flujos de escombros. En los flujos de agua, la cantidad de sedimento suspendido es insuficiente para afectar el comportamiento del agua, mientras que en los flujos hiperconcentrados la cantidad de sedimentos cambia significativamente las propiedades del fluido y los mecanismos de transporte, y los flujos de escombros se consideran cuando la mezcla de agua y sedimentos se convierte en una mezcla capaz de soportar partículas de tamaño grava en suspensión incluso a baja velocidad o estático. Gaume et al. (2009) utilizan la misma clasificación del USGS para clasificar las inundaciones súbitas que ocurren en Europa, pero proponen usar el término inundación de escombros en lugar de flujos hiperconcentrados.\n",
    "\n",
    "En cuanto a los flujos tipo torrentes de escombros, considerados por diferentes autores en sus clasificaciones, Aulitzky (1980) los diferencia entre torrentes de flujo de escombros y torrentes de flujo de lodos, donde los torrentes de flujos escombros, considerados como una forma de flujos de escombros canalizados cuando se presentan como resultado de enjambre de movimientos en masa (Sterling and Slaymaker 2007), corresponden a flujos viscosos no newtonianos con pulsos y velocidades que alcanzan los 30 m/s, y los torrentes de inundación de escombros como flujos viscosos sin pulsos y que alcanzan velocidades menores y menor capacidad de transporte, que se caracterizan por la ausencia de material fino, y la presencia de escombros de origen orgánico y grandes dimensiones (Slaymaker, 1988). \n",
    "Todas estas clasificaciones de mezclas de agua y sedimentos tienen una escala continua de estos dos materiales; sin embargo, no incluyen un término que pueda traducirse literalmente como avenida torrencial. Por el contrario, utilizan diferentes términos como inundación súbita, flujo de escombros, inundación de escombros, torrente de escombros, los cuales son correlacionables según las descripciones proporcionadas a fenómenos descritos en nuestro país como avenidas torrenciales. "
   ]
  },
  {
   "cell_type": "code",
   "execution_count": 3,
   "metadata": {},
   "outputs": [
    {
     "data": {
      "text/html": [
       "<iframe width=\"560\" height=\"315\" src=\"https://www.youtube.com/watch?v=0ENe7wDKP6I\" frameborder=\"0\" allowfullscreen></iframe>"
      ],
      "text/plain": [
       "<IPython.core.display.HTML object>"
      ]
     },
     "execution_count": 3,
     "metadata": {},
     "output_type": "execute_result"
    }
   ],
   "source": [
    "from IPython.display import HTML\n",
    "\n",
    "# Youtube\n",
    "HTML('<iframe width=\"560\" height=\"315\" src=\"https://www.youtube.com/watch?v=0ENe7wDKP6I\" frameborder=\"0\" allowfullscreen></iframe>')\n"
   ]
  },
  {
   "cell_type": "markdown",
   "metadata": {},
   "source": [
    "## Flow-R\n",
    "\n",
    "[Flow-R](https://www.flow-r.org/) (Flow path assessment of gravitational hazards at a Regional scale) es un modelo empirico disitribuido para la evaluacion de la susceptibilidad por flujos a escala regional, desarrollado por {cite:t}`Horton2013` de la Universidad de Laussane. Flow-R presenta un acercamiento simplificado sin una gran exigencia de parametros.\n",
    "\n",
    "Flow-R estima la propagación de los flujos mediante un balance energético básico y una propagación probabilística. Los algoritmos de la dirección de fujo calculan la probabilidad de que un fujo de detrito se mueva de una celda hacia las próximas 8 celdas. Estas probabilidades dependen de la pendiente y la persistencia que representa la inercia del flujo.\n",
    "\n",
    ":::{figure-md} flow-R\n",
    "<img src=\"https://geotechpedia.com/Images/Software/Flow_-_R_software.jpg\" alt=\"Flow-R\" width=\"500px\">h\n",
    "\n",
    "Modelo Flow-R (https://www.flow-r.org/).\n",
    ":::"
   ]
  },
  {
   "cell_type": "markdown",
   "metadata": {},
   "source": [
    "### Tutorial\n",
    "*Elaborado por Maria Isabel Arango*"
   ]
  },
  {
   "cell_type": "markdown",
   "metadata": {},
   "source": [
    "El modelo Flow-R se puede utilizar para modelar:\n",
    "* Las fuentes de flujos (zonas inestables)\n",
    "* La propagación de flujos\n",
    "\n",
    "Estrictamente, la única información necesaria para modelar usando Flow-R es un modelo de elevación digital (DEM). Sin embargo, si desea modelar las zonas inestables, otras capas (uso del suelo, geología, litología, curvatura, acumulación de flujo, pendiente, etc.) harán su modelamiento más preciso y más ajustado a las condiciones reales de la zona a modelar. En el caso de no querer modelar las zonas fuentes de los flujos mediante Flow-R, se debe ingresar una capa que determine las zonas fuentes predeterminadas para modelar su propagación. \n",
    "En todos los casos, la información que se debe ingresar al modelo debe ser de tipo raster en formato ASCII o txt, y debe cumplir con los siguientes criterios:\n",
    "* Debe estar en el mismo sistema de coordenadas\n",
    "* Debe tener las mismas dimensiones \n",
    "* Debe estar codificada siguiendo la nomenclatura del modelo"
   ]
  },
  {
   "cell_type": "markdown",
   "metadata": {},
   "source": [
    "#### Preparación de los mapas\n",
    "Para preparar la información, siga los siguientes pasos:\n",
    "* En ArcMap, abra el raster DEM_Arenosa.tif. En la tabla de contenidos, dé clic derecho sobre la capa > Propiedades. En la pestaña “Source”, observe las dimensiones del raster: 435 x 456. Toda la información que le ingresemos al modelo debe tener estas dimensiones. Cierre la pestaña.\n",
    "* En el ArcToolbox, seleccione Conversion Tools > From Raster > Raster to ASCII. En el campo “Input Raster” agregue el DEM, y guárdelo con el nombre “DEM_Arenosa”. Seleccione el tipo de archivo (*.ASC).\n",
    "* Abra el raster Coberturas_Arenosa.tif. Verifique que tenga las mismas dimensiones del DEM. Explore en la tabla de atributos a cuáles usos del suelo o coberturas corresponden las categorías. Ahora, es necesario codificar el raster para que el modelo lo entienda. \n",
    "* Para eso, vaya a la carpeta donde se instaló el programa, normalmente en la ruta “C:\\Program Files\\FlowR 0.9\\parameters\\sources”. Cada uno de los archivos de esta carpeta indica cómo debe ser la parametrización de las capas que se ingresen. En este caso, dado que se va a parametrizar el uso del suelo, abra los archivos “LDU_project_CH2007.xml” y “LDU_project_PK2009.xml” (LDU: Land Use).\n",
    "* Como verá, los archivos corresponden a dos tipos de parametrización diferente: La CH2007 corresponde a un proyecto llevado a cabo en Suiza en el año 2007 que incluye 28 tipos de cobertura de suelo. Note que cada tipo de cobertura tiene asociado un gridcode (Por ejemplo, la cobertura Bosque (Forêt) corresponde al código 3). Este es el código que usted debe ingresar en cada una de las celdas del raster de coberturas que correspondan a bosque. En el caso del archivo PK2009, es la parametrización llevada a cabo en un proyecto en Pakistán del año 2009 que incluye únicamente 6 tipos de coberturas, mucho más generales. Para este ejercicio, clasificará las coberturas según el proyecto CH2007.\n",
    "* En el ArcToolbox, vaya a Spatial Analysis > Reclass > Reclassify. En el campo “Input raster” agregue el raster de coberturas, en el campo “Reclass Field” seleccione Cobertura, y reclasifique el raster de la siguiente forma. Guárdelo.\n",
    "\n",
    "|Valores Antiguos|Valores Nuevos|Equivalencia según CH2007|\n",
    "|----|----|-----|\n",
    "|Pastos|6|Bosques escasos (Forêt clairsemée)|\n",
    "|Cultivos|2|Cultivos (Verger)|\n",
    "|Bosque Natural|3|Bosque (Forêt)|\n",
    "|Suelo desnudo|7|Pantano (Marais)|\n",
    "|Rastrojo|10|Arbustos (Buissons)|\n",
    "|NoData|NoData|-|\n",
    "\n",
    "\n",
    "* Finalmente, convierta el raster reclasificado en formato ASCII. Guárdelo con el nombre “Coberturas_Arenosa_Reclass.asc”. \n",
    "* Abra el Raster Suelos_Arenosa.tif. Realice el mismo procedimiento de reclasificación siguiendo los parámetros dados en el archivo “LTO_project_CH2007.xml” de la siguiente forma:\n",
    "\n",
    "|Valores Antiguos|Valores Nuevos|Equivalencia según CH2007|\n",
    "|----|-----|-----|\n",
    "|POc1|11|Aluviones (Alluvions)|\n",
    "|YAe1|17|Granito - Gneiss| \n",
    "|YAf2|17|Granito - Gneiss|\n",
    "|NoData|NoData|-|\n",
    "\n",
    "* Convierta el raster reclasificado en formato ASCII. Guárdelo con el nombre “Suelos_Arenosa_Reclass.asc”. \n",
    "* En caso de querer ingresar otras capas (Pendiente, Aspecto, Acumulación de flujo, Curvatura, etc.), siga el mismo procedimiento, siempre explorando el archivo correspondiente en la carpeta “sources” donde encontrará información sobre las unidades aceptadas. \n",
    "* Si no desea usar el modelo Flow-R para determinar las zonas fuentes dado que ya las determinó usando otro modelo, puede usar un raster binario (0= No Fuente, 1= Fuente), donde se indiquen las celdas inestables a usar para modelar el tránsito. En el caso de la Arenosa, se georeferenciaron las zonas fuentes de flujos del evento del 21 de septiembre del 1990, las cuales están en el raster Fuentes_Arenosa.tif. Convierta este raster a formato .ASCII y llámelo “Fuentes_Arenosa.asc”.\n"
   ]
  },
  {
   "cell_type": "markdown",
   "metadata": {},
   "source": [
    "#### Uso de la interfaz\n",
    "El uso de la interfaz de Flow-R tiene dos pasos: La importación de la información y los cálculos de áreas fuentes y de propagación.\n",
    "\n",
    "##### Importar la información\n",
    "Para ingresar la información al programa, se debe crear primero el proyecto y las carpetas en las cuales se almacenarán los datos de entrada y de salida. Siga los siguientes pasos:\n",
    "* Cree en su computador la carpeta “La Arenosa FlowR”. Dentro de ella, cree dos carpetas: una que se llame “Datos” y otra que se llame “Resultados”.\n",
    "* Abra el ejecutable de Flow-R. Se puede descargar de la página web https://www.flow-r.org/download. Después de llenar el formulario, el instalador le será enviado vía e-mail. Debe tener MATLAB ó su compilador instalado. Lo puede descargar de la página https://la.mathworks.com/products/compiler/matlab-runtime.html.\n",
    "* Una vez abierto, seleccione en “Directory to store data” la carpeta “Datos”. En la sección “Directory to store resulting files”, seleccione la carpeta “Resultados”.\n",
    "\n",
    "Ahora, proceda a ingresar los datos:\n",
    "* Seleccione Tools > Format Data > Import Data. Seleccione el archivo “DEM_Arenosa.asc”. Le aparecerá una advertencia mostrando el tipo de información que entiende el modelo > OK. En la ventana siguiente, debe seleccionar el tipo de información que está ingresando. En este caso, seleccione la primera opción (DEM). Asígnele un nombre al DEM y seleccione la zona de proyección UTM 18N, que corresponde al noroccidente de Colombia. \n",
    "* Realice el mismo procedimiento para los raster “Coberturas_Arenosa_Reclass.asc” (importar como Landuse), “Suelos_Arenosa_reclass.asc” (importar como Lithology), y “Fuentes_Arenosa.asc” (importar como predefined sources). Asígnele un nombre a cada capa a medida que se lo vaya pidiendo. \n",
    "* Cuando termine de importar los raster, debe definir su zona de estudio. Usted puede ingresar un DEM de una zona grande en la cual quiere analizar una o varias zonas pequeñas. No es la opción más recomendable, pues el tiempo de procesamiento normalmente se hace mayor. Si a pesar de esto lo desea hacer, puede seleccionar cada una de las zonas de estudio y darle un nombre. Dado que en este ejercicio se analizará toda la cuenca de la Arenosa, que corresponde al DEM completo, seleccione Case Study área > Select the whole DEM. Llame a la zona de estudio “Toda”. Fíjese que en caso de querer, puede seleccionar la zona de estudio manualmente, dando unas coordenadas o a través de un raster que la delimite. Usted puede crear tantas zonas de estudio como desee.\n",
    "* En la ventana de importación de datos, también están disponibles las opciones para la identificación de ríos y la selección de un búfer. Estas opciones son útiles en caso de que queramos reducir la búsqueda de áreas fuente a cierta distancia de las quebradas. Dado que no se limitará la búsqueda en este ejercicio, no ingrese nada en esa parte.\n",
    "* Cierre la ventana de importación de datos\n",
    "* En el campo “Choice of the study área”, seleccione la zona “Toda”, y en el campo “Choice of the rivers layer” seleccione “Entera_no_river”, que significa que no utilizará la información de las quebradas. Finalmente, asígnele un nombre a su corrida (Recomendación: Asígnele un número y en una hoja de Excel relacione este número con los parámetros de los algoritmos que utilizó en dicha corrida)\n",
    "\n",
    "##### Cálculo de áreas fuente\n",
    "Para el cálculo de las áreas fuentes, utilizará las capas del DEM, las coberturas y los suelos. \n",
    "* En la zona inferior izquierda de la interfaz está el panel “Source areas,”, donde se especifica la información que se desea tener en cuenta para calcular las zonas fuentes. \n",
    "* Deje en blanco las casillas “Backup intermediate grids” y “Distance to rivers”, dado que no va a generar raster de procesos intermedios ni va a usar información concerniente a las quebradas. \n",
    "* En la primera lista desplegable, debe especificar qué información quiere tener en cuenta. Incluya primero el DEM. \n",
    "* En la segunda lista desplegable se especifica cuál capa quiere usar (Dado que en este ejercicio sólo agregó un DEM, sólo mostrará una opción).\n",
    "* En la tercera columna debe especificar cuáles son los criterios para leer los raster. En el caso del DEM, se pueden restringir las zonas de búsqueda de fuentes a cierta altitud (Por ejemplo, si deseo conocer las zonas fuentes ubicadas por encima de los 2300 msnm, debo seleccionar este criterio). Dado que no restringirá la búsqueda de zonas fuentes a ninguna altitud, seleccione el criterio above_0000m.\n",
    "* Repita el mismo proceso para los raster de coberturas y geología, llenando los tres campos solicitados para cada una. Recuerde que se ingresaron como Landuse y Lithology, y que se codificaron siguiendo la nomenclatura del proyecto CH2007. \n",
    "* En el panel derecho de la interfaz, desactive el campo “Propagation calculation”, para que sólo calcule las zonas fuentes, y active el campo “Display the source areas” en la parte de abajo, para que se muestren los resultados de los cálculos de las áreas fuentes después de terminar los cálculos. \n",
    "* Haga click sobre el botón “Run”\n",
    "* Cuando el proceso termine, aparecerá una ventana de confirmación y otra con los resultados. Para verlos mejor puede abrir el raster resultante en ArcMap. Este se encuentra con el nombre “Sources.asc”en una subcarpeta con el nombre de la corrida, dentro de la carpeta “Resultados”\n",
    "* Compare los resultados de las áreas fuentes calculadas por el modelo, con las áreas fuentes reales del evento de 1990.\n",
    "\n",
    "##### Cálculo de propagación\n",
    "En esta parte va a calcular la propagación de las áreas fuentes definidas como zonas inestables que se propagarán en forma de flujo. Para esto, utilizará las fuentes cartografiadas en el evento real sucedido en el año 1990. \n",
    "* Dado que la única información necesaria para el cálculo de la propagación de flujos son el DEM y las fuentes predeterminadas, en la parte inferior izquierda ingrese estas dos capas únicamente. En la primera columna debe ingresar el tipo de información (DEM, Predefined sources), en la segunda el nombre del raster (Arenosa, fuentes_Arenosa), y en la tercera debe ingresar los criterios de lectura del archivo (avove_0000m, boolean), respectivamente.\n",
    "* En el panel derecho de la interfaz se deben ingresar todos los parámetros de los algoritmos para el cálculo de la dirección de propagación, extensión del flujo, y la metodología a usar para realizar los cálculos. Estos parámetros son:\n",
    "\n",
    "**Source areas selection**: Se refiere al criterio a utilizar a la hora seleccionar cuáles celdas consideradas como áreas fuentes se utilizarán para el cálculo de la propagación. \n",
    "\n",
    "*Overview - Only superior sources*: Dado que son las áreas fuentes más altas las que tienen más energía potencial para propagarse, sólo se calculará la propagación para estas zonas, asumiendo que toda zona fuente ubicada debajo no llegará tan lejos. Es el método de cálculo más rápido pero no el más completo, dado que áreas fuente más bajas pueden tomar trayectorias diferentes a las calculadas.\n",
    "\n",
    "*Quick – Energy based discrimination*: Las fuentes ubicadas en las zonas más altas se propagan primero. Luego, se consideran otras zonas fuentes, y si durante el cálculo en curso la propagación toma la misma trayectoria que una ya calculada con una energía similar o superior, los cálculos de la propagación actual se detienen ya que será redundante. Esta selección según la energía es muy eficiente, puede ahorrar mucho tiempo y produce resultados casi similares a la simulación completa para cada fuente. Es la opción más recomendable. Selecciónela.\n",
    "\n",
    "*Complete – Simulation of all propagations*: Cada celda identificada como fuente se propaga. Este proceso es el más demorado, pero es útil en casos donde se requiera conocer la suma de los valores de probabilidad o de susceptibilidad. \n",
    "\n",
    "**Directions Algorithm**: Se refiere al algoritmo que se usará para calcular la dirección que tomará el flujo. En este caso, utilizaremos el algoritmo de Holgrem modificado. En la lista desplegable, se deben seleccionar los valores que se le desean dar a dos variables:\n",
    "\n",
    "*dH*: Exageración de la altura de la celda del cálculo en curso\n",
    "\n",
    "*Exponente*: Se refiere al exponente de la ecuación.\n",
    "\n",
    "Para escoger los valores óptimos de estos dos parámetros, es necesario realizar un proceso de calibración para la zona de estudio, la cual hará más adelante. Por ahora, escoja la primera opción, con valores de dh y exp de 0.5m y 0.1, respectivamente.\n",
    "\n",
    "**Inertial algorithm**: Se refiere al algoritmo a utilizar para forzar al modelo a fluir correctamente, evitando cambios de dirección bruscos y errores de computación como las propagaciones en contra de la pendiente. Use el algoritmo de pesos (weights) Gamma 2000, el cual le asigna a la celda en la dirección del flujo un mayor peso. \n",
    "\n",
    "**Friction loss Function**: Algoritmo utilizado para calcular la energía del flujo, que determinará qué tan lejos llegará. Use el algoritmo de Perla et al (1980), que tienen cuenta dos variables:\n",
    "\n",
    "*M/D*: Relación mass-to-drag \n",
    "\n",
    "*µ*: Coeficiente de fricción\n",
    "\n",
    "Los valores óptimos de estos valores deben ser calibrados también para cada zona de estudio. Por ahora, seleccione la primera opción, con valores de md y mu de 10 y 0.01, respectivamente.\n",
    "\n",
    "Si se tienen estudios de la zona de interés relacionada con la velocidad máxima alcanzada por flujos en eventos pasados, se puede indicar ese valor en el campo “Energy limitation”, para evitar que los flujos tomen velocidades irreales, y que en consecuencia se propaguen más de lo que lo harían en la realidad. Dado que no se cuenta con información de este tipo para la zona de estudio, deje la celda vacía. \n",
    "\n",
    "* Finalmente, asegúrese de activar los campos “Propagation calculation”, “Display source áreas”, y “Display the propagation extent”\n",
    "* Haga click sobre el botón “Run”\n",
    "* Inmediatamente aparecerá una primera ventana mostrando las áreas fuentes en el mapa, y otra ventana mostrando el proceso de cálculo. Usted sabrá que el cálculo de la propagación terminó porque aparecerá una tercera ventana con los resultados de la propagación. \n",
    "* Para ver el mapa resultante, puede abrir el raster “Ekin.asc” que muestra la propagación del flujo en función de su energía cinética, o  el raster “ProbMax.asc”, que muestra la propagación en función de la probabilidad máxima de una celda de ser cubierta por un flujo. Ambos raster se encuentran en una subcarpeta con el nombre de la corrida, dentro de la carpeta “Resultados”.\n"
   ]
  },
  {
   "cell_type": "markdown",
   "metadata": {},
   "source": [
    "## r-avaflow\n",
    "\n",
    "r.avaflow es un modelo abierto y libre, desarrollado por {cite:t}`Mergili2017`, para simular la dinámica de flujos rápidos, que incluye avalanchas y flujos de escombros. El modelo se soporta en un ambiente SIG, que permite modelar una gran variedad de escenarios, pero sin embargo temben permite modelar escenarios con unminimo de datos. Como mínimo se requiere sólo un modelo de elevación digital y un mapa con los espesores del área fuente en mapas raster formato *ASCII*. El modelo permite simular flujos con reologias diferentes: una fase, dos fases, y mezcla; ademas permite incorporar la erosión del flujo e incorporación de material a lo largo del canal. r.avaflow también permite incorporar en la modelación hidrografas de flujos variados.\n",
    "\n",
    "Como resultado el modelo arroja la distribución espacial de la altura del flujo, velocidades y presiones, asi como tiempos de llegada e hidrógrafas en puntos de control especificados en el modelo.\n",
    "\n",
    ":::{figure-md} r.avaflow\n",
    "<img src=\"https://thumbs.gfycat.com/DarkYellowDrafthorse-max-1mb.gif\" alt=\"r.avaflow\" width=\"500px\">\n",
    "\n",
    "Modelo r.avaflow (https://www.landslidemodels.org/r.avaflow).\n",
    ":::"
   ]
  },
  {
   "cell_type": "markdown",
   "metadata": {},
   "source": [
    "### Tutorial\n",
    "\n",
    "*Elaborado por Juan Diego Torres, Luisa Fernanda Cardona, y Daissy Herrera*"
   ]
  },
  {
   "cell_type": "markdown",
   "metadata": {},
   "source": [
    "En este tutorial se utilizará la versión para windows r.avaflow.direct, la cual posee una interfaz que facilita el ingreso de los parámetros al modelo. Se puede acceder a esta interfaz mediante [https://www.landslidemodels.org/r.avaflow/direct.php](https://www.landslidemodels.org/r.avaflow/direct.php).\n",
    "\n",
    "Adicionalmente se debe contar como mínimo con un modelo de elevacion digital formato *ASCII*, en este caso utilizaremos [La Arenosa](https://github.com/edieraristizabal/Libro_cartoGeotecnia/blob/master/data/arenosa/DEM_Arenosa_Clip.asc?raw=true), y un archivo con las celdas fuentes que se deslizan y la profundidad, también en formato *ASCII*, para este caso denominado [release](https://github.com/edieraristizabal/Libro_cartoGeotecnia/blob/master/data/arenosa/release.asc?raw=true). También se puede ingresar el área del depósito generado por el flujo, de tal forma que se pueda evaluar la capacidad de predicción del modelo.\n",
    "\n",
    "1- Para el uso del modelo r.avaflow se debe tener instalado los siguientes programas:\n",
    "\n",
    "* Sistema operativo Windows 10/11\n",
    "* [r.avaflow.exe](https://www.landslidemodels.org/r.avaflow/software/r.avaflow.exe)\n",
    "* [cyqwin1.dll](https://www.cygwin.com/)\n",
    "\n",
    "Para visualizar los datos se debe contar con:\n",
    "\n",
    "* [R project](https://www.r-project.org/)\n",
    "* [paraview](https://www.paraview.org/)\n",
    "\n",
    "2- Importar parámetros\n",
    "\n",
    "En caso de disponer un archivo *.txt* con los parámetros este puede ser importado. Para este ejercicio se utilizarán cinco archivos con los parámetros. cada uno de ellos representa un escenario de modelación diferente:\n",
    "\n",
    "* [areno1_paramraw](https://github.com/edieraristizabal/Libro_cartoGeotecnia/blob/master/data/arenosa/areno1_paramraw.txt?raw=true): Archivo de texto que contiene todos los parámetros para el modelo de Pudasaini donde se estudia solo la fase sólida del movimiento.\n",
    "* [areno2_paramraw](https://github.com/edieraristizabal/Libro_cartoGeotecnia/blob/master/data/arenosa/areno2_paramraw.txt?raw=true): Archivo de texto que contiene todos los parámetros para el modelo de Fermi dónde se estudia el movimiento en conjunto, es decir, se tratan las fases sólidas y líquidas como una única fase.\n",
    "* [areno3_paramraw](https://github.com/edieraristizabal/Libro_cartoGeotecnia/blob/master/data/arenosa/areno3_paramraw.txt?raw=true): Archivo de texto que contiene todos los parámetros para el modelo Pudasaini donde se estudia la fase sólida y líquida del movimiento.\n",
    "* [areno4_paramraw](https://github.com/edieraristizabal/Libro_cartoGeotecnia/blob/master/data/arenosa/areno4_paramraw.txt?raw=true): Archivo de texto que contiene todos los parámetros para el modelo de Fermi dónde se estudia el movimiento en conjunto, es decir, se tratan las fases sólidas y líquidas como una única fase; y se agrega una [hidrógrafa](https://github.com/edieraristizabal/Libro_cartoGeotecnia/blob/master/data/arenosa/areno_hydrograph.txt?raw=true). Este archivo de texto indica el caudal y velocidad de la fase sólida, liquida o mezcla que representa el movimiento, en la hidrógrafa mostrada anteriormente, el índice s, alude a la fase sólida, fs a la fase fina y f a la fase líquida. Para esto se debe ingresar las coordenadas de ingreso de la hidrografa, para en este escenario se identificó el punto [13500, 221640, 50, 250] donde los dos primeros valores son las coordenadas x, y, el tercer valor es el ancho del perfil del cauce y el cuarto valor es el aspecto del flujo medido desde una línea oeste-este en sentido antihorario.\n",
    "* [areno5_paramraw](https://github.com/edieraristizabal/Libro_cartoGeotecnia/blob/master/data/arenosa/areno5_paramraw.txt?raw=true): Archivo de texto que contiene todos los parámetros para el modelo de Fermi dónde se estudia el movimiento en conjunto, es decir, se tratan las fases sólidas y líquidas como una única fase; se agrega una [hidrógrafa](https://github.com/edieraristizabal/Libro_cartoGeotecnia/blob/master/data/arenosa/areno_hydrograph.txt?raw=true) y se incorpora dentro de la modelación la erosión del flujo sobre el cauce. Para que este caso corra correctamente se debe de definir un mapa de arrastre máximo para la fase sólida. Debido a que si no se define esto el modelo realiza algunas suposiciones de proporción ⅓, es decir, supone que arrastra ⅓ de sedimentos sólidos, finos y de la fase líquida.\n",
    "\n",
    "Cada archivo corresponde a una corrida diferente del modelo.\n",
    "\n",
    "Cada que se vaya a correr el modelo deben especificarse:\n",
    "* **Simulation managment → prefix** : El nombre indicador del caso que se va a correr. En caso de no modificar los resultados se sobre escriben. Para cada prefijo generado se crea una carpeta de resultados, por lo tanto se debe modificar para cada corrida\n",
    "* **Simulation managment → indir** : La dirección en donde se encuentran almacenados los datos del caso en nuestro ordenador. Es importante, colocar un (/) al final de la ruta especificada.\n",
    "* **Parameters for visualization → pvpath** : La dirección de Paraview\n",
    "* **Parameters for visualization → rscriptpath** : La dirección de Rscript.\n",
    "\n",
    "Una vez añadidos todas las direcciones como es debido y de realizar los ajustes deseados a los parámetros se crea el archivo de parámetros. Es importante que este archivo se guarde en la carpeta de descargas junto con el *r.avaflow.exe* como se indicó anteriormente.\n",
    "\n",
    "3- Luego se debe crear el archivo de inicio y que corre el modelo. Para esto se procede de la siguiente manera:\n",
    "\n",
    "* **Create a start script and run your simulation → Working directory for your simulation** : La dirección de la carpeta donde se almacenarán los resultados del modelo.\n",
    "* **Create a start script and run your simulation → Default download directory of browser**: La dirección de la carpeta de descargas.\n",
    "* **Create a start script and run your simulation → Directory with cygwin1.dll** : La dirección de cygwin.\n",
    "\n",
    "Se procede a crear el archivo [prefix]avaflow.cmd. Este archivo es el que corre el modelo, por lo cual se debe almacenar en la misma carpeta donde esta el *r.avaflow.exe* y el archivo de parámetros creado en el paso anterior.\n",
    "\n",
    "se ejecuta el archivo *.cmd*, el computador lo reconocerá como un programa no seguro, sin embargo, se selecciona continuar de todos modos. Una vez se abra la línea de comandos, se escribe la letra *S* ó *Y* y se da *enter* para que comience a correr. Mientras corre el modelo se debe observar uan pantalla de la siguiente manera.\n",
    "\n",
    "\n",
    "4- Una vez se observa que el modelo ha finalizado se puede observar diferentes carpetas con resultados. \n",
    "\n",
    "* En _ascii se almacenan resultados que pueden ser cargados en un SIG.\n",
    "* En _files se almacenan resultados en formato txt que contienen información de puntos de control, evaluación del ajuste del modelo al caso real, los parámetros usados de manera comentada, un resumen de parámetros de la simulación con       información de tiempo, duración, profundidad, velocidad, volumen, energía cinética entre otros.\n",
    "* En _paraview se almacenan los archivos necesarios para observar estos resultados en una animación 3D generada por el programa del mismo nombre.\n",
    "* En _plots podremos observar el avance espacial y de perfil del flujo en los diferentes saltos de tiempo, de forma que se observa claramente su evolución en el tiempo, gráfica de altura máxima de flujo, entre otros.\n",
    "\n",
    "\n",
    "#### Recomendaciones\n",
    "\n",
    "* Almacenar r.avaflow.exe y los archivos generados por la interfaz de parámetros y comando en la carpeta de descargas.\n",
    "* Asegurarse de añadir un frontslash (/) al final de la dirección que indica la ubicación de los archivos del caso.\n",
    "* Recordar reemplazar los backslash (\\) por frontslash (/) en todas las ubicaciones de archivos ingresadas.\n",
    "* Todos los archivos raster ASCII empleados deben tener las mismas dimensiones (filas y columnas) y resolución.\n",
    "* Las hidrógrafas no deben de comenzar en un tiempo diferente de cero.\n",
    "* El tiempo de duración de las hidrógrafas debe de ser mayor que el tiempo de simulación.\n",
    "* Al momento de convertir los archivos al formato ASCII se debe seleccionar la segunda opción al momento de guardarlo.\n",
    "* Cuando se van a utilizar 2 hidrográfas, en el archivo de los parámetros generados se debe de eliminar la parte de C:\\fakepath\\"
   ]
  },
  {
   "cell_type": "markdown",
   "metadata": {},
   "source": [
    "## Referencias\n",
    "```{bibliography}\n",
    ":style: plain\n",
    ":filter: docname in docnames\n",
    "```"
   ]
  }
 ],
 "metadata": {
  "interpreter": {
   "hash": "81794d4967e6c3204c66dcd87b604927b115b27c00565d3d43f05ba2f3a2cb0d"
  },
  "kernelspec": {
   "display_name": "Python 3.9.0 64-bit",
   "language": "python",
   "name": "python3"
  },
  "language_info": {
   "codemirror_mode": {
    "name": "ipython",
    "version": 3
   },
   "file_extension": ".py",
   "mimetype": "text/x-python",
   "name": "python",
   "nbconvert_exporter": "python",
   "pygments_lexer": "ipython3",
   "version": "3.9.7"
  },
  "orig_nbformat": 4
 },
 "nbformat": 4,
 "nbformat_minor": 2
}
