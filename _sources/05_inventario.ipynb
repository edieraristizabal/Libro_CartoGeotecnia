{
 "cells": [
  {
   "cell_type": "markdown",
   "metadata": {
    "id": "tMyc-4zGh13N"
   },
   "source": [
    "# Inventario de movimientos en masa"
   ]
  },
  {
   "cell_type": "markdown",
   "metadata": {},
   "source": [
    "La evaluación de cada una de las probabilidades se realiza a partir de in inventario de movimientos en masa. El cual es una herramienta fundamental para la evaluación de la probabilidad espacial, temporal y magnitud. Además, constituyen la principal fuente de información con fines de validación de los resultados de los mapas de zonificación de la amenaza. El inventario de movimientos en masa corresponde a un registro detallado de los eventos que han ocurrido en el pasado proporcionando información útil sobre su distribución y características ({cite:t}`Eeckhaut2012`). \n"
   ]
  },
  {
   "cell_type": "markdown",
   "metadata": {
    "id": "oDdUzIGih13V"
   },
   "source": [
    "## Python"
   ]
  },
  {
   "cell_type": "code",
   "execution_count": null,
   "metadata": {},
   "outputs": [],
   "source": [
    "A continuación se presenta como se pueden importar y manipular el mapa raster del inventario de eventos en python:\n",
    "Primero se deben importar los modulos que se necesitan. La libreria denominada rasterio sirve para importar y trabajar con mapas tipo raster, y numpy para trabajar con matrices y métodos matemáticos. la funcion %matplotlib funciona para mostrar las figuras en los archivos de Jupiter.\n",
    "import rasterio as rio\n",
    "import numpy as np\n",
    "from rasterio.plot import show\n",
    "import matplotlib.pyplot as plt\n",
    "%matplotlib inline\n",
    "!pip install rasterio\n",
    "Se importa el archivo, indicando la ruta y abriendo el archivo, y posteriormente leyendo con la funcion read. Se debe especificar el numero de la capa. en algunos casos los mapas raster tienen diferentes capas, por ejemplo las imágenes de satelite. y la funcion show permite ver el mapa.\n",
    "from google.colab import drive\n",
    "drive.mount('/content/drive')\n",
    "raster = rio.open(r'content/\\My Drive\\CATEDRA\\MACHINE LEARNING\\datos\\raster/inventario.tif')\n",
    "type(raster)\n",
    "show(raster)\n",
    "raster\n",
    "inventario=raster.read(1)\n",
    "type(inventario)\n",
    "inventario.shape\n",
    "plt.imshow(inventario);\n",
    "inventario\n",
    "np.unique(inventario)\n",
    "inve=np.where(inventario==1,np.nan,inventario)\n",
    "np.unique(inve)\n",
    "plt.imshow(inve);\n",
    "El mapa que se importó tiene como valores 1 para celdas sin movimientos en masa y 2 para celdas con movimientos en masa. Es mas adecuado tener el mapa con celdas con valor 0 para celdas sin MenM y con valor 1 para celdas con MenM, esto se puede reclasificar desde ArcGIS antes de exportarlo o guardarlo. en este caso debemos crear una máscara que tenga el área de la cuenca, a partir de otro mapa, en este caso el mapa de pendientes. La máscara por defecto genera un mapa de valores cero para cualquier celda fuera de la cuenca y 255 para celdas que son parte de la cuenca. Modificamos esta máscara para que las celdas por fuera de la cuenca tengan un valor NaN.\n",
    "raster = rio.open(r'G:\\My Drive\\CATEDRA\\MACHINE LEARNING\\datos\\raster/slope_rad')\n",
    "msk=raster.read_masks(1)\n",
    "plt.imshow(msk)\n",
    "msk\n",
    "msk=np.where(msk==255,1,np.nan)\n",
    "show(msk);\n",
    "Y multiplicamos el inventario por la mascara y obtenemos el siguiente mapa, donde las celdas dentro de la cuenca que tienen MenM tienen un valor de 2 y sin MenM tienen un valor de 1.\n",
    "inventario=msk*inventario\n",
    "show(inventario);\n",
    "inve=msk*inve\n",
    "show(inve)\n",
    "inventario=np.where(inventario==1,0,inventario)\n",
    "inventario=np.where(inventario==2,1,inventario)\n",
    "show(inventario);\n",
    "np.unique(inventario)\n",
    "pend=raster.read(1)\n",
    "pend_menm=inventario*pend\n",
    "plt.imshow(pend_menm)\n",
    "np.unique(pend_menm)"
   ]
  }
 ],
 "metadata": {
  "colab": {
   "name": "Taller1_inventario.ipynb",
   "provenance": []
  },
  "kernelspec": {
   "display_name": "Python 3.9.2 ('geospatial')",
   "language": "python",
   "name": "python3"
  },
  "language_info": {
   "codemirror_mode": {
    "name": "ipython",
    "version": 3
   },
   "file_extension": ".py",
   "mimetype": "text/x-python",
   "name": "python",
   "nbconvert_exporter": "python",
   "pygments_lexer": "ipython3",
   "version": "3.9.2"
  },
  "toc": {
   "base_numbering": 1,
   "nav_menu": {},
   "number_sections": true,
   "sideBar": true,
   "skip_h1_title": false,
   "title_cell": "Table of Contents",
   "title_sidebar": "Contents",
   "toc_cell": false,
   "toc_position": {},
   "toc_section_display": true,
   "toc_window_display": false
  },
  "vscode": {
   "interpreter": {
    "hash": "e1d4d4432adaf810d84079afef3a2b5cc3e6cff3448576ce9e7d5e7cd95700e9"
   }
  }
 },
 "nbformat": 4,
 "nbformat_minor": 4
}
