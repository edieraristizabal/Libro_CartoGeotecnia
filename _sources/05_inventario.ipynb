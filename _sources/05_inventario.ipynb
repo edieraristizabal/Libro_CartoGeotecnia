{
 "cells": [
  {
   "cell_type": "markdown",
   "metadata": {
    "id": "tMyc-4zGh13N"
   },
   "source": [
    "# Inventario de movimientos en masa"
   ]
  },
  {
   "cell_type": "markdown",
   "metadata": {},
   "source": [
    "La evaluación de cada una de las probabilidades se realiza a partir de in inventario de movimientos en masa. El cual es una herramienta fundamental para la evaluación de la probabilidad espacial, temporal y magnitud. Además, constituyen la principal fuente de información con fines de validación de los resultados de los mapas de zonificación de la amenaza. El inventario de movimientos en masa corresponde a un registro detallado de los eventos que han ocurrido en el pasado proporcionando información útil sobre su distribución y características ({cite:t}`Eeckhaut2012`). "
   ]
  },
  {
   "cell_type": "markdown",
   "metadata": {},
   "source": [
    "## Atributos de los movimientos en masa\n",
    "Los atributos asociados a los movimientos en masa contienen información sobre:\n",
    "* el tipo de deslizamiento\n",
    "* la actividad\n",
    "* tamaño o volumen\n",
    "* la fecha de ocurrencia o edad relativa\n",
    "* las causas"
   ]
  },
  {
   "cell_type": "markdown",
   "metadata": {},
   "source": [
    "## Técnicas\n",
    "Existen múltiples técnicas para el levantamiento de inventarios:\n",
    "\n",
    "* análisis de información histórica\n",
    "* fotointerpretación de fotografías aéreas\n",
    "* análisis visual de modelos digitales del terreno\n",
    "* procesamiento de imágenes de satélite\n",
    "* Levantamiento de \n",
    "\n",
    "Debido al acelerado desarrollo de las técnicas de sensores remotos, y la disponibilidad, cada vez mayor de esta información, se vienen desarrollando técnicas basadas en imégenes de satelitales o modelos del elevación del terreno que faciliten la identificación y mapeo de los movimientos en masa. Entre ellas se resaltan el uso de índices espectrales, tales como el Indice de Diferencia Normalizada de Vegetacion (NDVI). En donde se pueden identificar áreas cubiertas por vegetación y que por causa de movimientos en masa pierden dicha cobertura a suelos desnudos. Para esto se debe utilizar una imagen previa a la ocurrencia del evento, y otra imagen posterior y calcular el NDVI para cada una de ellas y posteriormente la diferenencia entre dichos índices calculados. Las zonas de movimientos en masa representan las celdas con valores diferentes a cero, señalando el cambio de cobertura.\n",
    "\n",
    ":::{figure-md} inventario\n",
    "<img src=\"https://www.researchgate.net/profile/Dario-Gioia-2/publication/234111493/figure/fig2/AS:393517898715136@1470833386263/Landslide-inventory-map-of-the-study-area-Landslides-types-are-classified-according-to.png\" alt=\"inventario\" width=\"800px\">\n",
    "\n",
    "Inventario de movimientos en masa por tipo de evento. Tomado de Santagelo et al., (2013)\n",
    ":::\n",
    "\n",
    ":::{figure-md} inventario\n",
    "<img src=\"https://d3i71xaburhd42.cloudfront.net/b29fda1ca9630cdb7118a107d420a8f7b91406ad/5-Figure3-1.png\" alt=\"inventario\" width=\"800px\">\n",
    "\n",
    "Inventario de movimientos en masa por actividad. Tomado de Ventisette et al (2014).\n",
    ":::"
   ]
  },
  {
   "cell_type": "markdown",
   "metadata": {},
   "source": [
    "## Tipos de inventarios\n",
    "Existen los siguientes tipos de inventarios de movimientos en masa:\n",
    "\n",
    "* **Inventario de movimientos en masa multitemporales**: son elaborados a partir de información de diferentes periodos de tiempo, por lo tanto permiten establecer la fecha o rango de ocurrencia de los eventos. Cuando se utilizan fogografías aéreas o imágenes satelitales, se tiene la fecha de un periodo donde todavía no se había presentado el movimiento en masa, y una fecha posterior donde el evento ya se encuentra, por lo tanto no se se tiene la fecha exacta de ocurrencia, pero si el rango (entre la fecha anterior donde no se había presentado el evento y la fecha donde se registra). Son los mas recomendados para la construcción de modelos de susceptibilidad, ya que agregan eventos ocurridos por diferentes condiciones detonantes. Sin embargo para mapas de amenaza deben ser utilizados con cuidado, por lo que precisamente se requiere diferenciar las condiciones detonantes.\n",
    "\n",
    ":::{figure-md} inventario multi\n",
    "<img src=\"https://www.irpi.cnr.it/wp-content/uploads/2015/02/Prodotto_LIM-595x290.png\" alt=\"inventario multi\" width=\"600px\">\n",
    "\n",
    "Inventario de movimientos en masa multitemporal. Tomado del IRPI & CNR.\n",
    ":::\n",
    "\n",
    "* **Inventario de un sólo periodo**: corresponden a inventarios a partir de un sólo periodo de tiempo por lo tanto no son válidos para calibrar un modelo de susceptibilidad, ya que representan solo las codnciones de ese periodo de tiempo, el cual puede ser diferentes a las condciones dominantes. En este mismo sentido, pueden ser muy útiles para mapas de amenaza cuando precisamente se requiere calibrar o caracterizar las condiciones detonantes que dominaron durante ese periodo de tiempo.\n",
    "\n",
    "* **Inventario de deslizamientos de un evento**: son inventarios de movimientsos en masa que ocurren como resultado de un evento detonante particular (tormenta, sismo, etc). Son recomendados para calibrar modelos de amenaza, ya que permiten identificar las zonas que fallaron ante condiciones muy específicas de lluvia o magnitud del sismo.\n",
    "\n",
    ":::{figure-md} inventario evento\n",
    "<img src=\"https://i.pinimg.com/564x/03/94/43/0394436918c95bfa81a13cdfab4ec32a.jpg\" alt=\"inventario evento\" width=\"600px\">\n",
    "\n",
    "Inventario de movimientos en masa de un evento de lluvia específico.\n",
    ":::\n",
    "\n",
    "Es importante señalar que los inventarios de movimientos en masa tienden a ser sesgados por que la huella de los pequeños movimientos es eliminada por procesos erosivos y la vegetación. Tienden a conservarse los eventos mas recientes o mas grandes.\n",
    "\n",
    ":::{figure-md} influencia vegetacion\n",
    "<img src=\"https://i.pinimg.com/564x/6f/2e/cc/6f2ecc0b23d8a9703ef66ee77386d5be.jpg\" alt=\"influencia vegetacion\" width=\"600px\">\n",
    "\n",
    "Inventario de movimientos en masa en ambientes con abundante vegetación.\n",
    ":::"
   ]
  },
  {
   "cell_type": "markdown",
   "metadata": {},
   "source": [
    "## Cartografía\n",
    "Diferentes métodos han sido utilizados para cartografiar los movimientos en masa para un inventario:\n",
    "\n",
    "* un pixel que representa el centro del movimiento en masa\n",
    "* todos los pixeles dentro del movimiento en masa (cuerpo y corona)\n",
    "* la corona del evento\n",
    "* la celula semilla (*see-cell approach*) seleccionando pixeles dentro de un *buffer* a lo largo de la corona, y en algunos de los flancos de la zona de acumulación\n",
    "\n",
    ":::{figure-md} inventario\n",
    "<img src=\"https://i.pinimg.com/564x/08/3e/23/083e23fa25cc6e95f3539d73fa09017f.jpg\" alt=\"inventario\" width=\"500px\">\n",
    "\n",
    "Cartografía de movimientos en masa.\n",
    ":::\n",
    "\n",
    "No existe hasta el momento un acuerdo en la mejor estrategia de cartografía. Para entrenar modelos de susceptibildiad o amenaza se debe considerar para la selección de la estrategia que el objetivo es representar las condiciones previas a la ocurrencia del evento, y no a las condiciones posteriores a la ocurrencia. En este caso el uso del depósito o incluso la corona no representaría adecuadamente la morfometría inestable que precisamente es inestable, la nueva geometría que representa el depósito entrenaría erroneamante el modelo de forma tal que las zonas de pendiente baja (representativas del depósito) son inestables, lo cual no es cierto. En este sentido, se recomienda durante el proceso de cartografía de los movimientos en masa separar la corona y escarpe del depósito. Obviamente esto depende de la técnica utilizad para el levntameinto del inventario. Para invetarios a partir de registros históricos se cuenta en mucos casos solo con una coordenada, lo cual permite solo ubicar el evento como un punto desconociendo qué parte del movimiento en masa representa dicho punto. Para inventario a partir de fotografía aéreas o imágenes satelitales depende de la escala o resolucion de las imágenes.\n",
    "\n",
    "Otra discusión importante que se dá sobre el método utilizado para cartografiar los movimientos y específicamente como se incorporan para entrenar los modelos estadísticos se refiere al número de celdas. Muchos autores plantean que el entrenamiento de los modelos estadísticos debe ser independiente del tamaño del movimiento. Cuando se utiliza todos los pixeles del movimiento en masa o toda la corona del evento para eventos de gran tamaño, a diferencia de utilizar un pixel que representa el centro, se puede estar sesgando el modelo ya que el modelo *aprende* mas entre mas celdas se le ingresen, por lo tanto terminan pesando mas a los eventos de menor tamaño. Esto se evita utlizando solo un pixel, independiente del tamaño del evento. La preguta en este caso sería qué pixel es representativo de las condiciones de inestabilidad originales, probablemente el pixel sobre el centro del evento no cumpla esta condición."
   ]
  },
  {
   "cell_type": "markdown",
   "metadata": {
    "id": "oDdUzIGih13V"
   },
   "source": [
    "## Python"
   ]
  },
  {
   "cell_type": "markdown",
   "metadata": {},
   "source": [
    "A continuación se presenta como se pueden importar y manipular el mapa raster del inventario de eventos en python. Primero se deben importar llas librerías que se van a utilizar. La libreria denominada rasterio sirve para importar y trabajar con mapas tipo raster, y numpy para trabajar con matrices y métodos matemáticos. la funcion %matplotlib funciona para visualizar las figuras en los archivos de Jupiter."
   ]
  },
  {
   "cell_type": "code",
   "execution_count": null,
   "metadata": {},
   "outputs": [],
   "source": [
    "import rasterio as rio\n",
    "import numpy as np\n",
    "from rasterio.plot import show\n",
    "import matplotlib.pyplot as plt\n",
    "%matplotlib inline"
   ]
  },
  {
   "cell_type": "markdown",
   "metadata": {},
   "source": [
    "En caso de no tener instalada la librería rasterio se puende instalar directamente desde Jupyter de la siguiente forma:"
   ]
  },
  {
   "cell_type": "code",
   "execution_count": null,
   "metadata": {},
   "outputs": [],
   "source": [
    "!pip install rasterio"
   ]
  },
  {
   "cell_type": "markdown",
   "metadata": {},
   "source": [
    "Para trabajar con Google Colab e importar los datos desde el drive se debe utilizar el siguiente codigo:"
   ]
  },
  {
   "cell_type": "code",
   "execution_count": null,
   "metadata": {},
   "outputs": [],
   "source": [
    "from google.colab import drive\n",
    "drive.mount('/content/drive')"
   ]
  },
  {
   "cell_type": "markdown",
   "metadata": {},
   "source": [
    "Para importar el inventario desde un archivo *.tif* (raster) se importa el archivo, indicando la ruta y abriendo el archivo, y posteriormente leyendo con la funcion read. Se debe especificar el numero de la capa. en algunos casos los mapas raster tienen diferentes capas, por ejemplo las imágenes de satelite. y la funcion show permite ver el mapa.\n"
   ]
  },
  {
   "cell_type": "code",
   "execution_count": null,
   "metadata": {},
   "outputs": [],
   "source": [
    "raster = rio.open(r'content\\My Drive\\CATEDRA\\MACHINE LEARNING\\datos\\raster/inventario.tif')\n",
    "inventario=raster.read(1)\n",
    "type(inventario)\n",
    "inventario.shape\n",
    "plt.imshow(inventario);"
   ]
  },
  {
   "cell_type": "markdown",
   "metadata": {},
   "source": [
    "Para conocer los valores alamacenados en la capa se utiliza"
   ]
  },
  {
   "cell_type": "code",
   "execution_count": null,
   "metadata": {},
   "outputs": [],
   "source": [
    "np.unique(inventario)"
   ]
  },
  {
   "cell_type": "markdown",
   "metadata": {},
   "source": [
    "Para cambiar alguno de lso valores por otro número se puede utilizar la funcion *where* de numpy. En el siguiente ejemplo se cambian los valores iguales a 1 por no data (NaN)."
   ]
  },
  {
   "cell_type": "code",
   "execution_count": null,
   "metadata": {},
   "outputs": [],
   "source": [
    "inve=np.where(inventario==1,np.nan,inventario)\n",
    "np.unique(inve)\n",
    "plt.imshow(inve);"
   ]
  },
  {
   "cell_type": "markdown",
   "metadata": {},
   "source": [
    "El mapa que se importó tiene como valores 1 para celdas sin movimientos en masa y 2 para celdas con movimientos en masa. Es mas adecuado tener el mapa con celdas con valor 0 para celdas sin MenM y con valor 1 para celdas con MenM, esto se puede reclasificar desde *GIS* antes de exportarlo o guardarlo. en este caso debemos crear una máscara que tenga el área de la cuenca, a partir de otro mapa, en este caso el mapa de pendientes. La máscara por defecto genera un mapa de valores cero para cualquier celda fuera de la cuenca y 255 para celdas que son parte de la cuenca. Modificamos esta máscara para que las celdas por fuera de la cuenca tengan un valor NaN.\n"
   ]
  },
  {
   "cell_type": "code",
   "execution_count": null,
   "metadata": {},
   "outputs": [],
   "source": [
    "raster = rio.open(r'G:\\My Drive\\CATEDRA\\MACHINE LEARNING\\datos\\raster/slope_rad')\n",
    "msk=raster.read_masks(1)\n",
    "plt.imshow(msk)\n",
    "msk\n",
    "msk=np.where(msk==255,1,np.nan)\n",
    "show(msk);"
   ]
  },
  {
   "cell_type": "markdown",
   "metadata": {},
   "source": [
    "Y multiplicamos el inventario por la mascara y obtenemos el siguiente mapa, donde las celdas dentro de la cuenca que tienen MenM tienen un valor de 2 y sin MenM tienen un valor de 1."
   ]
  },
  {
   "cell_type": "code",
   "execution_count": null,
   "metadata": {},
   "outputs": [],
   "source": [
    "inventario=msk*inventario\n",
    "show(inventario);\n",
    "inve=msk*inve\n",
    "show(inve)\n",
    "inventario=np.where(inventario==1,0,inventario)\n",
    "inventario=np.where(inventario==2,1,inventario)\n",
    "show(inventario);"
   ]
  },
  {
   "cell_type": "code",
   "execution_count": null,
   "metadata": {},
   "outputs": [],
   "source": [
    "np.unique(inventario)\n",
    "pend=raster.read(1)\n",
    "pend_menm=inventario*pend\n",
    "plt.imshow(pend_menm)"
   ]
  },
  {
   "cell_type": "code",
   "execution_count": null,
   "metadata": {},
   "outputs": [],
   "source": [
    "np.unique(pend_menm)"
   ]
  },
  {
   "cell_type": "markdown",
   "metadata": {},
   "source": [
    "```{bibliography}\n",
    ":style: plain\n",
    ":filter: docname in docnames\n",
    "```"
   ]
  }
 ],
 "metadata": {
  "colab": {
   "name": "Taller1_inventario.ipynb",
   "provenance": []
  },
  "kernelspec": {
   "display_name": "Python 3.9.2 ('geospatial')",
   "language": "python",
   "name": "python3"
  },
  "language_info": {
   "codemirror_mode": {
    "name": "ipython",
    "version": 3
   },
   "file_extension": ".py",
   "mimetype": "text/x-python",
   "name": "python",
   "nbconvert_exporter": "python",
   "pygments_lexer": "ipython3",
   "version": "3.9.2"
  },
  "toc": {
   "base_numbering": 1,
   "nav_menu": {},
   "number_sections": true,
   "sideBar": true,
   "skip_h1_title": false,
   "title_cell": "Table of Contents",
   "title_sidebar": "Contents",
   "toc_cell": false,
   "toc_position": {},
   "toc_section_display": true,
   "toc_window_display": false
  },
  "vscode": {
   "interpreter": {
    "hash": "e1d4d4432adaf810d84079afef3a2b5cc3e6cff3448576ce9e7d5e7cd95700e9"
   }
  }
 },
 "nbformat": 4,
 "nbformat_minor": 4
}
