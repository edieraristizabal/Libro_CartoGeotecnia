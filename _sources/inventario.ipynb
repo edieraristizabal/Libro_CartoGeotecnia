{
 "cells": [
  {
   "cell_type": "markdown",
   "metadata": {
    "id": "tMyc-4zGh13N"
   },
   "source": [
    "# Inventario de movimientos en masa"
   ]
  },
  {
   "cell_type": "markdown",
   "metadata": {
    "id": "Du4dP2ZBh13P"
   },
   "source": [
    "## Objetivos"
   ]
  },
  {
   "cell_type": "markdown",
   "metadata": {
    "id": "pWkud_7lh13Q"
   },
   "source": [
    "Elaborar el inventario de movimientos en masa y/o avenidas torrenciales en el área de estudio."
   ]
  },
  {
   "cell_type": "markdown",
   "metadata": {
    "id": "lEqQ-0pph13R"
   },
   "source": [
    "## Alcance"
   ]
  },
  {
   "cell_type": "markdown",
   "metadata": {
    "id": "WNlCQkioh13S"
   },
   "source": [
    "El equipo deberá elaborar el inventario de eventos, el cual corresponde a la variable dependiente del modelo a construir,  combinando diferentes técnicas descritas en la clase teórica.\n",
    "\n",
    "-\tInventario histórico\n",
    "-\tFotografías aéreas\n",
    "-\tImágenes satelitales\n",
    "-\tModelos digitales de elevación  \n"
   ]
  },
  {
   "cell_type": "markdown",
   "metadata": {
    "id": "xUqS5aswh13T"
   },
   "source": [
    "## Actividades a realizar"
   ]
  },
  {
   "cell_type": "markdown",
   "metadata": {
    "id": "00ZNap--h13U"
   },
   "source": [
    "1.\tEl estudiante deberá seleccionar una cuenca como zona de estudio. Para fines pedagógicos se recomienda realizar la búsqueda en una cuenca que no esté muy intervenida antrópicamente.\n",
    "\n",
    "2.\tEn la cuenca seleccionada el estudiante deberá realizar un inventario histórico de movimientos en masa, utilizando herramientas como bases de datos (DESINVENTAR, SIMMA), oficinas locales de gestión del riesgo, periódicos y medios locales. Dichos eventos deberán ser localizados especial y temporalmente en la cartografía base de la cuenca al mayor detalle existente.\n",
    "\n",
    "3.\tTambién deberá realizar una búsqueda de fotografías aéreas de la cuenca de estudio, y la fotointerpretación de movimientos en masa. Para esto se deberán utilizar fotografías escalas detalladas que permitan identificar los eventos y cicatrices.\n",
    "\n",
    "4.\tEl inventario también deberá incluir el uso de imágenes de satélite, tipo LANDSAT, SPOT, ortofotos, y demás imágenes disponibles y útiles a la escala de trabajo. En esta parte se recomienda la exploración de la herramienta de Google Earth Engine.\n",
    "\n",
    "5.\tComo parte del levantamiento del inventario de eventos se deberá utilizar la herramienta Geoogle Earth para el levantamiento del inventario y para su digitalización.\n",
    "\n",
    "6.\tFinalmente se deberá digitalizar dicho levantamiento y entregar un mapa formato raster del inventario.\n"
   ]
  },
  {
   "cell_type": "markdown",
   "metadata": {
    "id": "oDdUzIGih13V"
   },
   "source": [
    "# Python"
   ]
  },
  {
   "cell_type": "markdown",
   "metadata": {
    "id": "6PmPWfXSh13W"
   },
   "source": [
    "A continuación se presenta como se pueden importar y manipular el mapa raster del inventario de eventos en python:"
   ]
  },
  {
   "cell_type": "markdown",
   "metadata": {
    "id": "uHBqsGu-h13X"
   },
   "source": [
    "Primero se deben importar los modulos que se necesitan. La libreria denominada rasterio sirve para importar y trabajar con mapas tipo raster, y numpy para trabajar con matrices y métodos matemáticos. la funcion %matplotlib funciona para mostrar las figuras en los archivos de Jupiter."
   ]
  },
  {
   "cell_type": "code",
   "execution_count": null,
   "metadata": {
    "id": "7lg6MAv5h13Y"
   },
   "outputs": [],
   "source": [
    "import rasterio as rio\n",
    "import numpy as np\n",
    "from rasterio.plot import show\n",
    "import matplotlib.pyplot as plt\n",
    "%matplotlib inline"
   ]
  },
  {
   "cell_type": "code",
   "execution_count": null,
   "metadata": {
    "colab": {
     "base_uri": "https://localhost:8080/",
     "height": 338
    },
    "executionInfo": {
     "elapsed": 7320,
     "status": "ok",
     "timestamp": 1599152649126,
     "user": {
      "displayName": "Edier Vicente Aristizabal Giraldo",
      "photoUrl": "https://lh3.googleusercontent.com/a-/AOh14Gg0afJy-VHb9gW5tEA0EUfeVH2ZsMGtzgPJG3UL=s64",
      "userId": "14756502124163770629"
     },
     "user_tz": 300
    },
    "id": "cmiOGQCB7JsZ",
    "outputId": "dcbbe0ae-46b0-49cf-b883-467fb16ee904"
   },
   "outputs": [],
   "source": [
    "!pip install rasterio"
   ]
  },
  {
   "cell_type": "raw",
   "metadata": {
    "id": "i8Ppdg-th13b"
   },
   "source": [
    "Se importa el archivo, indicando la ruta y abriendo el archivo, y posteriormente leyendo con la funcion read. Se debe especificar el numero de la capa. en algunos casos los mapas raster tienen diferentes capas, por ejemplo las imágenes de satelite. y la funcion show permite ver el mapa."
   ]
  },
  {
   "cell_type": "code",
   "execution_count": null,
   "metadata": {
    "colab": {
     "base_uri": "https://localhost:8080/"
    },
    "executionInfo": {
     "elapsed": 28405,
     "status": "ok",
     "timestamp": 1637167260962,
     "user": {
      "displayName": "Edier Vicente Aristizabal Giraldo",
      "photoUrl": "https://lh3.googleusercontent.com/a-/AOh14Gg0afJy-VHb9gW5tEA0EUfeVH2ZsMGtzgPJG3UL=s64",
      "userId": "14756502124163770629"
     },
     "user_tz": 300
    },
    "id": "GWp5NhyB7W7n",
    "outputId": "c9ba5cc3-c70d-4c27-9ea9-5fea25be33ac"
   },
   "outputs": [],
   "source": [
    "from google.colab import drive\n",
    "drive.mount('/content/drive')"
   ]
  },
  {
   "cell_type": "code",
   "execution_count": null,
   "metadata": {
    "id": "Dkri9sLG7l2i"
   },
   "outputs": [],
   "source": [
    "raster = rio.open(r'content/\\My Drive\\CATEDRA\\MACHINE LEARNING\\datos\\raster/inventario.tif')"
   ]
  },
  {
   "cell_type": "code",
   "execution_count": null,
   "metadata": {
    "id": "5AEhwoVk7EqT",
    "outputId": "a8673f38-bb0e-4780-b59a-c1adf8fa9ffb"
   },
   "outputs": [],
   "source": [
    "type(raster)"
   ]
  },
  {
   "cell_type": "code",
   "execution_count": null,
   "metadata": {
    "id": "y75PkyFY7EqX",
    "outputId": "7a36d721-328b-4213-a28c-89b0c06c6719"
   },
   "outputs": [],
   "source": [
    "show(raster)"
   ]
  },
  {
   "cell_type": "code",
   "execution_count": null,
   "metadata": {
    "id": "WJz_t5l-7Eqa",
    "outputId": "93832f94-591c-4055-ef02-75654da8b8e2"
   },
   "outputs": [],
   "source": [
    "raster"
   ]
  },
  {
   "cell_type": "code",
   "execution_count": null,
   "metadata": {
    "id": "aPr7Sayp7Eqf"
   },
   "outputs": [],
   "source": [
    "inventario=raster.read(1)"
   ]
  },
  {
   "cell_type": "code",
   "execution_count": null,
   "metadata": {
    "id": "ZmDB8-Fx7Eqj",
    "outputId": "ab48ccc9-4f1a-45bb-9b84-d614ff9e76c6"
   },
   "outputs": [],
   "source": [
    "type(inventario)\n",
    "inventario.shape"
   ]
  },
  {
   "cell_type": "code",
   "execution_count": null,
   "metadata": {
    "id": "QpTJGIGt7Eql",
    "outputId": "fae4d46a-da3b-4414-8d28-b778b25c60e9"
   },
   "outputs": [],
   "source": [
    "plt.imshow(inventario);"
   ]
  },
  {
   "cell_type": "code",
   "execution_count": null,
   "metadata": {
    "id": "3moFEgCc7Eqp",
    "outputId": "060aa379-742f-4f6c-e2dd-8cba0937a19b"
   },
   "outputs": [],
   "source": [
    "inventario"
   ]
  },
  {
   "cell_type": "code",
   "execution_count": null,
   "metadata": {
    "id": "47F_0mqL7Eqt",
    "outputId": "ef4f886f-fa28-4845-840f-1e00a1ac4b2e"
   },
   "outputs": [],
   "source": [
    "np.unique(inventario)"
   ]
  },
  {
   "cell_type": "code",
   "execution_count": null,
   "metadata": {
    "id": "-hDaxNPR7Eqv"
   },
   "outputs": [],
   "source": [
    "inve=np.where(inventario==1,np.nan,inventario)"
   ]
  },
  {
   "cell_type": "code",
   "execution_count": null,
   "metadata": {
    "id": "oxKieGty7Eqy",
    "outputId": "e054287a-d7bd-4c92-93fd-0af645ab6a25"
   },
   "outputs": [],
   "source": [
    "np.unique(inve)"
   ]
  },
  {
   "cell_type": "code",
   "execution_count": null,
   "metadata": {
    "id": "D0G34xrO7Eq1",
    "outputId": "1a965588-3909-476a-87b6-03efc863fe71"
   },
   "outputs": [],
   "source": [
    "plt.imshow(inve);"
   ]
  },
  {
   "cell_type": "raw",
   "metadata": {
    "id": "QxAQRptgh13i"
   },
   "source": [
    "El mapa que se importó tiene como valores 1 para celdas sin movimientos en masa y 2 para celdas con movimientos en masa. Es mas adecuado tener el mapa con celdas con valor 0 para celdas sin MenM y con valor 1 para celdas con MenM, esto se puede reclasificar desde ArcGIS antes de exportarlo o guardarlo. en este caso debemos crear una máscara que tenga el área de la cuenca, a partir de otro mapa, en este caso el mapa de pendientes. La máscara por defecto genera un mapa de valores cero para cualquier celda fuera de la cuenca y 255 para celdas que son parte de la cuenca. Modificamos esta máscara para que las celdas por fuera de la cuenca tengan un valor NaN."
   ]
  },
  {
   "cell_type": "code",
   "execution_count": null,
   "metadata": {
    "id": "1XsigoXHh13j",
    "outputId": "08768334-9242-4860-8554-5d688a371856"
   },
   "outputs": [],
   "source": [
    "raster = rio.open(r'G:\\My Drive\\CATEDRA\\MACHINE LEARNING\\datos\\raster/slope_rad')\n",
    "msk=raster.read_masks(1)\n",
    "plt.imshow(msk)"
   ]
  },
  {
   "cell_type": "code",
   "execution_count": null,
   "metadata": {
    "id": "ehga557v7Eq6",
    "outputId": "5f7cfadf-9d41-4c1a-d6b3-e425cc5dcc98"
   },
   "outputs": [],
   "source": [
    "msk"
   ]
  },
  {
   "cell_type": "code",
   "execution_count": null,
   "metadata": {
    "id": "84ryTQGX7Eq9",
    "outputId": "a008d593-b409-4c24-ef26-2df5998d2d66"
   },
   "outputs": [],
   "source": [
    "msk=np.where(msk==255,1,np.nan)\n",
    "show(msk);"
   ]
  },
  {
   "cell_type": "raw",
   "metadata": {
    "id": "kWogrx9Vh13o"
   },
   "source": [
    "Y multiplicamos el inventario por la mascara y obtenemos el siguiente mapa, donde las celdas dentro de la cuenca que tienen MenM tienen un valor de 2 y sin MenM tienen un valor de 1."
   ]
  },
  {
   "cell_type": "code",
   "execution_count": null,
   "metadata": {
    "id": "tVlj3YW8h13o",
    "outputId": "16783743-82fa-4dd5-e507-1815c28e5362"
   },
   "outputs": [],
   "source": [
    "inventario=msk*inventario\n",
    "show(inventario);"
   ]
  },
  {
   "cell_type": "code",
   "execution_count": null,
   "metadata": {
    "id": "1uuTZcju7ErE",
    "outputId": "e8eb048b-d104-43c6-fd30-ca6866e1d82c"
   },
   "outputs": [],
   "source": [
    "inve=msk*inve\n",
    "show(inve)"
   ]
  },
  {
   "cell_type": "code",
   "execution_count": null,
   "metadata": {
    "id": "PWsfakCEh13u",
    "outputId": "9bbb3916-d933-447d-e5ea-dc77709b90ba"
   },
   "outputs": [],
   "source": [
    "inventario=np.where(inventario==1,0,inventario)\n",
    "inventario=np.where(inventario==2,1,inventario)\n",
    "show(inventario);"
   ]
  },
  {
   "cell_type": "code",
   "execution_count": null,
   "metadata": {
    "id": "QeE4J7oD7ErI",
    "outputId": "27eca1d8-5551-47b1-bd69-65f2d01d74a1"
   },
   "outputs": [],
   "source": [
    "np.unique(inventario)"
   ]
  },
  {
   "cell_type": "code",
   "execution_count": null,
   "metadata": {
    "id": "hJxOIyRl7ErL",
    "outputId": "46726426-00df-4870-9c54-f6859dec3bd4"
   },
   "outputs": [],
   "source": [
    "pend=raster.read(1)\n",
    "pend_menm=inventario*pend\n",
    "plt.imshow(pend_menm)"
   ]
  },
  {
   "cell_type": "code",
   "execution_count": null,
   "metadata": {
    "id": "znX6VNQb7ErO",
    "outputId": "73d32914-aaa2-41c8-9202-22e0b9a54ca0"
   },
   "outputs": [],
   "source": [
    "np.unique(pend_menm)"
   ]
  }
 ],
 "metadata": {
  "colab": {
   "name": "Taller1_inventario.ipynb",
   "provenance": []
  },
  "kernelspec": {
   "display_name": "Python 3",
   "language": "python",
   "name": "python3"
  },
  "language_info": {
   "codemirror_mode": {
    "name": "ipython",
    "version": 3
   },
   "file_extension": ".py",
   "mimetype": "text/x-python",
   "name": "python",
   "nbconvert_exporter": "python",
   "pygments_lexer": "ipython3",
   "version": "3.8.3"
  },
  "toc": {
   "base_numbering": 1,
   "nav_menu": {},
   "number_sections": true,
   "sideBar": true,
   "skip_h1_title": false,
   "title_cell": "Table of Contents",
   "title_sidebar": "Contents",
   "toc_cell": false,
   "toc_position": {},
   "toc_section_display": true,
   "toc_window_display": false
  }
 },
 "nbformat": 4,
 "nbformat_minor": 4
}
